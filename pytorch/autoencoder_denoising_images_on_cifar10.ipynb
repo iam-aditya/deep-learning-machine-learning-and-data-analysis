{
  "nbformat": 4,
  "nbformat_minor": 0,
  "metadata": {
    "colab": {
      "name": "autoencoder_denoising_images_on cifar10.ipynb",
      "version": "0.3.2",
      "provenance": []
    },
    "kernelspec": {
      "name": "python3",
      "display_name": "Python 3"
    },
    "accelerator": "GPU"
  },
  "cells": [
    {
      "metadata": {
        "id": "I6ASHVHtskJ3",
        "colab_type": "code",
        "colab": {}
      },
      "cell_type": "code",
      "source": [
        "import torch\n",
        "#import torch.cuda as cuda\n",
        "import torch.nn as nn\n",
        "import matplotlib.pyplot as plt\n",
        "import numpy as np\n",
        "\n",
        "from torch.autograd import Variable\n",
        "\n",
        "\n",
        "from torchvision import datasets\n",
        "from torchvision import transforms\n",
        "\n",
        "from torch.nn import functional as F"
      ],
      "execution_count": 0,
      "outputs": []
    },
    {
      "metadata": {
        "id": "4_F_HWG6sz1z",
        "colab_type": "code",
        "colab": {}
      },
      "cell_type": "code",
      "source": [
        "# http://pytorch.org/\n",
        "from os.path import exists\n",
        "from wheel.pep425tags import get_abbr_impl, get_impl_ver, get_abi_tag\n",
        "platform = '{}{}-{}'.format(get_abbr_impl(), get_impl_ver(), get_abi_tag())\n",
        "cuda_output = !ldconfig -p|grep cudart.so|sed -e 's/.*\\.\\([0-9]*\\)\\.\\([0-9]*\\)$/cu\\1\\2/'\n",
        "accelerator = cuda_output[0] if exists('/dev/nvidia0') else 'cpu'\n",
        "\n",
        "!pip install -q http://download.pytorch.org/whl/{accelerator}/torch-0.4.1-{platform}-linux_x86_64.whl torchvision\n",
        "import torch"
      ],
      "execution_count": 0,
      "outputs": []
    },
    {
      "metadata": {
        "id": "DVCNvX7LskJ6",
        "colab_type": "text"
      },
      "cell_type": "markdown",
      "source": [
        "The CIFAR-10 dataset consists of 60000 32x32 colour images in 10 classes, with 6000 images per class. There are 50000 training images and 10000 test images."
      ]
    },
    {
      "metadata": {
        "id": "0DFjsM8YskJ7",
        "colab_type": "text"
      },
      "cell_type": "markdown",
      "source": [
        "https://www.cs.toronto.edu/~kriz/cifar.html"
      ]
    },
    {
      "metadata": {
        "id": "aUM8pb9fskJ8",
        "colab_type": "code",
        "colab": {
          "base_uri": "https://localhost:8080/",
          "height": 51
        },
        "outputId": "6cf1390e-ffe2-49de-a01b-017868082af2"
      },
      "cell_type": "code",
      "source": [
        "transform=transforms.Compose([transforms.ToTensor()])\n",
        "\n",
        "cifar10_train = datasets.CIFAR10('./data.cifar10', train=True, download=True, transform=transform)\n",
        "cifar10_valid = datasets.CIFAR10('./data.cifar10', train=False, download=True, transform=transform)"
      ],
      "execution_count": 3,
      "outputs": [
        {
          "output_type": "stream",
          "text": [
            "Downloading https://www.cs.toronto.edu/~kriz/cifar-10-python.tar.gz to ./data.cifar10/cifar-10-python.tar.gz\n",
            "Files already downloaded and verified\n"
          ],
          "name": "stdout"
        }
      ]
    },
    {
      "metadata": {
        "id": "Lls7iQrHskKC",
        "colab_type": "text"
      },
      "cell_type": "markdown",
      "source": [
        "**Utility to display the original, noisy and denoised image**"
      ]
    },
    {
      "metadata": {
        "id": "uCJdzajuskKD",
        "colab_type": "code",
        "colab": {}
      },
      "cell_type": "code",
      "source": [
        "def show_img(orig, noisy, denoised):\n",
        "    fig=plt.figure()\n",
        "    \n",
        "    orig = orig.swapaxes(0, 1).swapaxes(1, 2)\n",
        "    noisy = noisy.swapaxes(0, 1).swapaxes(1, 2)\n",
        "    denoised = denoised.swapaxes(0, 1).swapaxes(1, 2)\n",
        "    \n",
        "    # Normalize for display purpose\n",
        "    orig     = (orig - orig.min()) / (orig.max() - orig.min())\n",
        "    noisy    = (noisy - noisy.min()) / (noisy.max() - noisy.min())\n",
        "    denoised = (denoised - denoised.min()) / (denoised.max() - denoised.min())\n",
        "    \n",
        "    fig.add_subplot(1, 3, 1, title='Original')\n",
        "    plt.imshow(orig)\n",
        "    \n",
        "    fig.add_subplot(1, 3, 2, title='Noisy')\n",
        "    plt.imshow(noisy)\n",
        "    \n",
        "    fig.add_subplot(1, 3, 3, title='Denoised')\n",
        "    plt.imshow(denoised)\n",
        "    \n",
        "    fig.subplots_adjust(wspace = 0.5)\n",
        "    plt.show()\n",
        "    \n",
        "# To test\n",
        "# show_img(cifar10_train[0][0].numpy(), cifar10_train[1][0].numpy(), cifar10_train[2][0].numpy())"
      ],
      "execution_count": 0,
      "outputs": []
    },
    {
      "metadata": {
        "id": "En7vWa0AskKE",
        "colab_type": "text"
      },
      "cell_type": "markdown",
      "source": [
        "**Some hyper parameters**"
      ]
    },
    {
      "metadata": {
        "id": "3cyT9aI9skKF",
        "colab_type": "code",
        "colab": {}
      },
      "cell_type": "code",
      "source": [
        "batch_size = 250 # Reduce this if you get out-of-memory error\n",
        "learning_rate = 0.001\n",
        "noise_level = 0.1"
      ],
      "execution_count": 0,
      "outputs": []
    },
    {
      "metadata": {
        "id": "DzB7LnlkskKI",
        "colab_type": "text"
      },
      "cell_type": "markdown",
      "source": [
        "**Create the dataloader**"
      ]
    },
    {
      "metadata": {
        "id": "QAx86awhskKJ",
        "colab_type": "code",
        "colab": {}
      },
      "cell_type": "code",
      "source": [
        "cifar10_train_loader = torch.utils.data.DataLoader(cifar10_train, batch_size=batch_size, shuffle=True, num_workers=1)\n",
        "cifar10_valid_loader = torch.utils.data.DataLoader(cifar10_valid, batch_size=batch_size, shuffle=True, num_workers=1)"
      ],
      "execution_count": 0,
      "outputs": []
    },
    {
      "metadata": {
        "id": "6UmQX2OkskKL",
        "colab_type": "text"
      },
      "cell_type": "markdown",
      "source": [
        "**The Denoising Autoencoder**"
      ]
    },
    {
      "metadata": {
        "id": "0muXXxzZskKM",
        "colab_type": "code",
        "colab": {}
      },
      "cell_type": "code",
      "source": [
        "class DenoisingAutoencoder(nn.Module):\n",
        "    \n",
        "    def __init__(self):\n",
        "    \n",
        "        super(DenoisingAutoencoder, self).__init__()\n",
        "                                                            # 32 x 32 x 3 (input)\n",
        "\n",
        "        self.conv1e = nn.Conv2d(3, 24, 3, padding=2)        # 30 x 30 x 24\n",
        "        self.conv2e = nn.Conv2d(24, 48, 3, padding=2)       # 28 x 28 x 48\n",
        "        self.conv3e = nn.Conv2d(48, 96, 3, padding=2)       # 26 x 26 x 96\n",
        "        self.conv4e = nn.Conv2d(96, 128, 3, padding=2)      # 24 x 24 x 128\n",
        "        self.conv5e = nn.Conv2d(128, 256, 3, padding=2)     # 22 x 22 x 256\n",
        "        self.mp1e   = nn.MaxPool2d(2, return_indices=True)  # 11 x 11 x 256\n",
        "\n",
        "        self.mp1d = nn.MaxUnpool2d(2)\n",
        "        self.conv5d = nn.ConvTranspose2d(256, 128, 3, padding=2)\n",
        "        self.conv4d = nn.ConvTranspose2d(128, 96, 3, padding=2)\n",
        "        self.conv3d = nn.ConvTranspose2d(96, 48, 3, padding=2)\n",
        "        self.conv2d = nn.ConvTranspose2d(48, 24, 3, padding=2)\n",
        "        self.conv1d = nn.ConvTranspose2d(24, 3, 3, padding=2)\n",
        "        \n",
        "    \n",
        "    def forward(self, x):\n",
        "        # Encoder\n",
        "        x = self.conv1e(x)\n",
        "        x = F.relu(x)\n",
        "        x = self.conv2e(x)\n",
        "        x = F.relu(x)\n",
        "        x = self.conv3e(x)\n",
        "        x = F.relu(x)\n",
        "        x = self.conv4e(x)\n",
        "        x = F.relu(x)\n",
        "        x = self.conv5e(x)\n",
        "        x = F.relu(x)\n",
        "        x, i = self.mp1e(x)\n",
        "        \n",
        "         # Decoder\n",
        "        x = self.mp1d(x, i)\n",
        "        x = self.conv5d(x)\n",
        "        x = F.relu(x)\n",
        "        x = self.conv4d(x)\n",
        "        x = F.relu(x)\n",
        "        x = self.conv3d(x)\n",
        "        x = F.relu(x)\n",
        "        x = self.conv2d(x)\n",
        "        x = F.relu(x)\n",
        "        x = self.conv1d(x)\n",
        "        x = F.relu(x)\n",
        "        \n",
        "        return x\n"
      ],
      "execution_count": 0,
      "outputs": []
    },
    {
      "metadata": {
        "id": "N2c73EPrskKO",
        "colab_type": "code",
        "colab": {}
      },
      "cell_type": "code",
      "source": [
        "autoencoder = DenoisingAutoencoder()\n",
        "parameters = list(autoencoder.parameters())\n",
        "loss_func = nn.MSELoss()\n",
        "optimizer = torch.optim.Adam(parameters, lr=learning_rate)"
      ],
      "execution_count": 0,
      "outputs": []
    },
    {
      "metadata": {
        "id": "oTRTysnVskKQ",
        "colab_type": "code",
        "colab": {
          "base_uri": "https://localhost:8080/",
          "height": 54
        },
        "outputId": "2e8d0089-eeb7-4249-e03d-aab09483f046"
      },
      "cell_type": "code",
      "source": [
        "train_loss = []\n",
        "valid_loss = []\n",
        "\n",
        "for i in range(10):\n",
        "    print(i)\n",
        "    # Let's train the model\n",
        "    \n",
        "    total_loss = 0.0\n",
        "    total_iter = 0\n",
        "    autoencoder.train()\n",
        "    for image, label in cifar10_train_loader:\n",
        "        \n",
        "        noise = torch.randn(image.shape[0], 3, 32, 32) * noise_level\n",
        "        image_n = torch.add(image, noise)\n",
        "        \n",
        "        image = Variable(image)\n",
        "        image_n = Variable(image_n)\n",
        "\n",
        "        optimizer.zero_grad()\n",
        "        output = autoencoder(image_n)\n",
        "        \n",
        "        loss = loss_func(output, image)\n",
        "        loss.backward()\n",
        "        optimizer.step()\n",
        "        \n",
        "        total_iter += 1\n",
        "        total_loss += loss.data[0]\n",
        "        \n",
        "    # Let's record the validation loss\n",
        "    \n",
        "    total_val_loss = 0.0\n",
        "    total_val_iter = 0\n",
        "    autoencoder.eval()\n",
        "    for image, label in cifar10_valid_loader:\n",
        "        \n",
        "        noise = torch.randn(image.shape[0], 3, 32, 32) * noise_level\n",
        "        image_n = torch.add(image, noise)\n",
        "        \n",
        "        image = Variable(image)\n",
        "        image_n = Variable(image_n)\n",
        "        \n",
        "        output = autoencoder(image_n)\n",
        "        loss = loss_func(output, image)\n",
        "        \n",
        "        total_val_iter += 1\n",
        "        total_val_loss += loss.data[0]\n",
        "        \n",
        "        \n",
        "    # Let's visualize the first image of the last batch in our validation set\n",
        "    orig = image[0].cpu()\n",
        "    noisy = image_n[0].cpu()\n",
        "    denoised = output[0].cpu()\n",
        "\n",
        "    orig = orig.data.numpy()\n",
        "    noisy = noisy.data.numpy()\n",
        "    denoised = denoised.data.numpy()\n",
        "\n",
        "    print(\"Iteration \", i+1)\n",
        "    show_img(orig, noisy, denoised)\n",
        "    \n",
        "    train_loss.append(total_loss / total_iter)\n",
        "    valid_loss.append(total_val_loss / total_val_iter)\n",
        "    "
      ],
      "execution_count": 0,
      "outputs": [
        {
          "output_type": "stream",
          "text": [
            "/usr/local/lib/python3.6/dist-packages/ipykernel_launcher.py:27: UserWarning: invalid index of a 0-dim tensor. This will be an error in PyTorch 0.5. Use tensor.item() to convert a 0-dim tensor to a Python number\n"
          ],
          "name": "stderr"
        }
      ]
    },
    {
      "metadata": {
        "id": "R5I9cpvCskKU",
        "colab_type": "code",
        "colab": {}
      },
      "cell_type": "code",
      "source": [
        "# Save the model\n",
        "torch.save(autoencoder.state_dict(), \"./5.autoencoder.pth\")"
      ],
      "execution_count": 0,
      "outputs": []
    },
    {
      "metadata": {
        "id": "7bv2HTqCskKX",
        "colab_type": "code",
        "colab": {},
        "outputId": "83d978f3-66ab-4b97-c82c-684a498e5105"
      },
      "cell_type": "code",
      "source": [
        "fig = plt.figure(figsize=(10, 7))\n",
        "plt.plot(train_loss, label='Train loss')\n",
        "plt.plot(valid_loss, label='Validation loss')\n",
        "plt.legend()\n",
        "plt.show()"
      ],
      "execution_count": 0,
      "outputs": [
        {
          "output_type": "display_data",
          "data": {
            "image/png": "[encoded data removed]",
            "text/plain": [
              "<Figure size 720x504 with 1 Axes>"
            ]
          },
          "metadata": {
            "tags": []
          }
        }
      ]
    },
    {
      "metadata": {
        "id": "OZ4JBAFTskKd",
        "colab_type": "text"
      },
      "cell_type": "markdown",
      "source": [
        "### Let's do standalone inference"
      ]
    },
    {
      "metadata": {
        "id": "49ti9uvJskKd",
        "colab_type": "code",
        "colab": {},
        "outputId": "e721ef11-5c9d-4307-9733-d909a6dab871"
      },
      "cell_type": "code",
      "source": [
        "import random\n",
        "\n",
        "img, _ = random.choice(cifar10_valid)\n",
        "img    = img.resize_((1, 3, 32, 32))\n",
        "noise  = torch.randn((1, 3, 32, 32)) * noise_level\n",
        "img_n  = torch.add(img, noise)\n",
        "\n",
        "img_n = Variable(img_n).cuda()\n",
        "denoised = autoencoder(img_n)\n",
        "\n",
        "\n",
        "show_img(img[0].numpy(), img_n[0].data.cpu().numpy(), denoised[0].data.cpu().numpy())"
      ],
      "execution_count": 0,
      "outputs": [
        {
          "output_type": "display_data",
          "data": {
            "image/png": "[encoded data removed]",
            "text/plain": [
              "<Figure size 432x288 with 3 Axes>"
            ]
          },
          "metadata": {
            "tags": []
          }
        }
      ]
    },
    {
      "metadata": {
        "id": "VqhMdpGBskKh",
        "colab_type": "text"
      },
      "cell_type": "markdown",
      "source": [
        "### Homework\n",
        "\n",
        "* Use a different dataset\n",
        "* Make the autoencoder act as a vanilla stacked autoencoder\n",
        "* Play with  the layers of the autoencoder - can you simplify it"
      ]
    }
  ]
}