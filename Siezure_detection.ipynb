{
  "nbformat": 4,
  "nbformat_minor": 0,
  "metadata": {
    "colab": {
      "name": "lstm.ipynb",
      "version": "0.3.2",
      "provenance": [],
      "collapsed_sections": []
    },
    "kernelspec": {
      "name": "python2",
      "display_name": "Python 2"
    },
    "accelerator": "TPU"
  },
  "cells": [
    {
      "metadata": {
        "id": "ko2vr34pJhPS",
        "colab_type": "code",
        "outputId": "ba51e465-726d-4400-8351-480a5ba425d0",
        "colab": {
          "base_uri": "https://localhost:8080/",
          "height": 139
        }
      },
      "cell_type": "code",
      "source": [
        "#https://machinelearningmastery.com/timedistributed-layer-for-long-short-term-memory-networks-in-python/\n",
        "#refer for doubts\n",
        "from keras.layers import Dense,Input,LSTM,TimeDistributed,AveragePooling1D\n",
        "from keras.models import Model\n",
        "from google.colab import drive\n",
        "drive.mount('/content/gdrive',force_remount=True)"
      ],
      "execution_count": 0,
      "outputs": [
        {
          "output_type": "stream",
          "text": [
            "Using TensorFlow backend.\n"
          ],
          "name": "stderr"
        },
        {
          "output_type": "stream",
          "text": [
            "Go to this URL in a browser: https://accounts.google.com/o/oauth2/auth?client_id=947318989803-6bn6qk8qdgf4n4g3pfee6491hc0brc4i.apps.googleusercontent.com&redirect_uri=urn%3Aietf%3Awg%3Aoauth%3A2.0%3Aoob&scope=email%20https%3A%2F%2Fwww.googleapis.com%2Fauth%2Fdocs.test%20https%3A%2F%2Fwww.googleapis.com%2Fauth%2Fdrive%20https%3A%2F%2Fwww.googleapis.com%2Fauth%2Fdrive.photos.readonly%20https%3A%2F%2Fwww.googleapis.com%2Fauth%2Fpeopleapi.readonly&response_type=code\n",
            "\n",
            "Enter your authorization code:\n",
            "··········\n",
            "Mounted at /content/gdrive\n"
          ],
          "name": "stdout"
        }
      ]
    },
    {
      "metadata": {
        "id": "0BnTzFneOlij",
        "colab_type": "code",
        "outputId": "244b168d-a87d-4304-bd3c-5fc2432a01ff",
        "colab": {
          "base_uri": "https://localhost:8080/",
          "height": 68
        }
      },
      "cell_type": "code",
      "source": [
        "import numpy as np\n",
        "a=np.array([[1,2,3],[4,5,6],[7,8,9]])\n",
        "print(a[:,:1])\n"
      ],
      "execution_count": 0,
      "outputs": [
        {
          "output_type": "stream",
          "text": [
            "[[1]\n",
            " [4]\n",
            " [7]]\n"
          ],
          "name": "stdout"
        }
      ]
    },
    {
      "metadata": {
        "id": "nYMMiaR22OQq",
        "colab_type": "code",
        "colab": {}
      },
      "cell_type": "code",
      "source": [
        ""
      ],
      "execution_count": 0,
      "outputs": []
    },
    {
      "metadata": {
        "id": "DF-X7wrvzBjF",
        "colab_type": "code",
        "colab": {}
      },
      "cell_type": "code",
      "source": [
        "#DELTA\n",
        "import numpy as np\n",
        "import pandas as pd\n",
        "Z=[]\n",
        "y=[]\n",
        "#a\n",
        "for i in range(100):\n",
        "    if len(str(i+1))==1:\n",
        "        w=pd.read_csv('/content/gdrive/My Drive/Zf/Z00'+str(i+1)+'.txt')\n",
        "    elif len(str(i+1))==2:\n",
        "        w=pd.read_csv('/content/gdrive/My Drive/Zf/Z0'+str(i+1)+'.txt')\n",
        "    elif len(str(i+1))==3:\n",
        "        w=pd.read_csv('/content/gdrive/My Drive/Zf/Z'+str(i+1)+'.txt')\n",
        "    Z.append(np.array(w)[:,:1])\n",
        "    y.append([1,0,0,0,0])\n",
        "    \n",
        "#b    \n",
        "for i in range(100):\n",
        "    if len(str(i+1))==1:\n",
        "        w=pd.read_csv('/content/gdrive/My Drive/Of/O00'+str(i+1)+'.txt')\n",
        "    elif len(str(i+1))==2:\n",
        "        w=pd.read_csv('/content/gdrive/My Drive/Of/O0'+str(i+1)+'.txt')\n",
        "    elif len(str(i+1))==3:\n",
        "        w=pd.read_csv('/content/gdrive/My Drive/Of/O'+str(i+1)+'.txt')\n",
        "    Z.append(np.array(w)[:,:1])\n",
        "    y.append([0,1,0,0,0])\n",
        "    \n",
        "#c    \n",
        "for i in range(100):\n",
        "    if len(str(i+1))==1:\n",
        "        w=pd.read_csv('/content/gdrive/My Drive/Nf/N00'+str(i+1)+'.txt')\n",
        "    elif len(str(i+1))==2:\n",
        "        w=pd.read_csv('/content/gdrive/My Drive/Nf/N0'+str(i+1)+'.txt')\n",
        "    elif len(str(i+1))==3:\n",
        "        w=pd.read_csv('/content/gdrive/My Drive/Nf/N'+str(i+1)+'.txt')\n",
        "    Z.append(np.array(w)[:,:1])\n",
        "    y.append([0,0,1,0,0])\n",
        "    \n",
        "#d    \n",
        "for i in range(100):\n",
        "    if len(str(i+1))==1:\n",
        "        w=pd.read_csv('/content/gdrive/My Drive/Ff/F00'+str(i+1)+'.txt')\n",
        "    elif len(str(i+1))==2:\n",
        "        w=pd.read_csv('/content/gdrive/My Drive/Ff/F0'+str(i+1)+'.txt')\n",
        "    elif len(str(i+1))==3:\n",
        "        w=pd.read_csv('/content/gdrive/My Drive/Ff/F'+str(i+1)+'.txt')\n",
        "    Z.append(np.array(w)[:,:1])\n",
        "    y.append([0,0,0,1,0])\n",
        "    \n",
        "#e    \n",
        "for i in range(100):\n",
        "    if len(str(i+1))==1:\n",
        "        w=pd.read_csv('/content/gdrive/My Drive/Sf/S00'+str(i+1)+'.txt')\n",
        "    elif len(str(i+1))==2:\n",
        "        w=pd.read_csv('/content/gdrive/My Drive/Sf/S0'+str(i+1)+'.txt')\n",
        "    elif len(str(i+1))==3:\n",
        "        w=pd.read_csv('/content/gdrive/My Drive/Sf/S'+str(i+1)+'.txt')\n",
        "    Z.append(np.array(w)[:,:1])\n",
        "    y.append([0,0,0,0,1])    "
      ],
      "execution_count": 0,
      "outputs": []
    },
    {
      "metadata": {
        "id": "j1AOGCVHck3s",
        "colab_type": "text"
      },
      "cell_type": "markdown",
      "source": [
        "**3 class classification using delta**"
      ]
    },
    {
      "metadata": {
        "id": "8DBVnyN8xzbx",
        "colab_type": "code",
        "colab": {}
      },
      "cell_type": "code",
      "source": [
        "#3 class classiication involving delta \n",
        "import numpy as np\n",
        "import pandas as pd\n",
        "Z=[]\n",
        "y=[]\n",
        "#b    \n",
        "for i in range(100):\n",
        "    if len(str(i+1))==1:\n",
        "        w=pd.read_csv('/content/gdrive/My Drive/Of/O00'+str(i+1)+'.txt')\n",
        "    elif len(str(i+1))==2:\n",
        "        w=pd.read_csv('/content/gdrive/My Drive/Of/O0'+str(i+1)+'.txt')\n",
        "    elif len(str(i+1))==3:\n",
        "        w=pd.read_csv('/content/gdrive/My Drive/Of/O'+str(i+1)+'.txt')\n",
        "    Z.append(np.array(w)[:,:1])\n",
        "    #y.append([0,1,0,0,0])\n",
        "    y.append([1,0,0])\n",
        "\n",
        "#c    \n",
        "for i in range(100):\n",
        "    if len(str(i+1))==1:\n",
        "        w=pd.read_csv('/content/gdrive/My Drive/Nf/N00'+str(i+1)+'.txt')\n",
        "    elif len(str(i+1))==2:\n",
        "        w=pd.read_csv('/content/gdrive/My Drive/Nf/N0'+str(i+1)+'.txt')\n",
        "    elif len(str(i+1))==3:\n",
        "        w=pd.read_csv('/content/gdrive/My Drive/Nf/N'+str(i+1)+'.txt')\n",
        "    Z.append(np.array(w)[:,:1])\n",
        "    y.append([0,1,0])\n",
        "  \n",
        "#e    \n",
        "for i in range(100):\n",
        "    if len(str(i+1))==1:\n",
        "        w=pd.read_csv('/content/gdrive/My Drive/Sf/S00'+str(i+1)+'.txt')\n",
        "    elif len(str(i+1))==2:\n",
        "        w=pd.read_csv('/content/gdrive/My Drive/Sf/S0'+str(i+1)+'.txt')\n",
        "    elif len(str(i+1))==3:\n",
        "        w=pd.read_csv('/content/gdrive/My Drive/Sf/S'+str(i+1)+'.txt')\n",
        "    Z.append(np.array(w)[:,:1])\n",
        "    y.append([0,0,1])      "
      ],
      "execution_count": 0,
      "outputs": []
    },
    {
      "metadata": {
        "id": "QtPmNQlycaCA",
        "colab_type": "text"
      },
      "cell_type": "markdown",
      "source": [
        "**3 class classification using theta**"
      ]
    },
    {
      "metadata": {
        "id": "QKvs2Zc9Msbq",
        "colab_type": "code",
        "colab": {}
      },
      "cell_type": "code",
      "source": [
        "#3 class classiication involving theta\n",
        "import numpy as np\n",
        "import pandas as pd\n",
        "Z=[]\n",
        "y=[]\n",
        "\n",
        "#b\n",
        "for i in range(100):\n",
        "    if len(str(i+1))==1:\n",
        "        w=pd.read_csv('/content/gdrive/My Drive/Of/O00'+str(i+1)+'.txt')\n",
        "    elif len(str(i+1))==2:\n",
        "        w=pd.read_csv('/content/gdrive/My Drive/Of/O0'+str(i+1)+'.txt')\n",
        "    elif len(str(i+1))==3:\n",
        "        w=pd.read_csv('/content/gdrive/My Drive/Of/O'+str(i+1)+'.txt')\n",
        "    Z.append(np.array(w)[:,1:2])\n",
        "    y.append([1,0,0])\n",
        "    \n",
        "#c    \n",
        "for i in range(100):\n",
        "    if len(str(i+1))==1:\n",
        "        w=pd.read_csv('/content/gdrive/My Drive/Nf/N00'+str(i+1)+'.txt')\n",
        "    elif len(str(i+1))==2:\n",
        "        w=pd.read_csv('/content/gdrive/My Drive/Nf/N0'+str(i+1)+'.txt')\n",
        "    elif len(str(i+1))==3:\n",
        "        w=pd.read_csv('/content/gdrive/My Drive/Nf/N'+str(i+1)+'.txt')\n",
        "    Z.append(np.array(w)[:,1:2])\n",
        "    y.append([0,1,0])\n",
        "    \n",
        "#e\n",
        "for i in range(100):\n",
        "    if len(str(i+1))==1:\n",
        "        w=pd.read_csv('/content/gdrive/My Drive/Sf/S00'+str(i+1)+'.txt')\n",
        "    elif len(str(i+1))==2:\n",
        "        w=pd.read_csv('/content/gdrive/My Drive/Sf/S0'+str(i+1)+'.txt')\n",
        "    elif len(str(i+1))==3:\n",
        "        w=pd.read_csv('/content/gdrive/My Drive/Sf/S'+str(i+1)+'.txt')\n",
        "    Z.append(np.array(w)[:,1:2])\n",
        "    y.append([0,0,1])"
      ],
      "execution_count": 0,
      "outputs": []
    },
    {
      "metadata": {
        "id": "HSMrasfW3Iaf",
        "colab_type": "code",
        "colab": {}
      },
      "cell_type": "code",
      "source": [
        "#THETA\n",
        "import numpy as np\n",
        "import pandas as pd\n",
        "Z=[]\n",
        "y=[]\n",
        "#a\n",
        "\n",
        "for i in range(100):\n",
        "    if len(str(i+1))==1:\n",
        "        w=pd.read_csv('/content/gdrive/My Drive/Zf/Z00'+str(i+1)+'.txt')\n",
        "    elif len(str(i+1))==2:\n",
        "        w=pd.read_csv('/content/gdrive/My Drive/Zf/Z0'+str(i+1)+'.txt')\n",
        "    elif len(str(i+1))==3:\n",
        "        w=pd.read_csv('/content/gdrive/My Drive/Zf/Z'+str(i+1)+'.txt')\n",
        "    Z.append(np.array(w)[:,1:2])\n",
        "    y.append([1,0,0,0,0])\n",
        "    \n",
        "#b\n",
        "for i in range(100):\n",
        "    if len(str(i+1))==1:\n",
        "        w=pd.read_csv('/content/gdrive/My Drive/Of/O00'+str(i+1)+'.txt')\n",
        "    elif len(str(i+1))==2:\n",
        "        w=pd.read_csv('/content/gdrive/My Drive/Of/O0'+str(i+1)+'.txt')\n",
        "    elif len(str(i+1))==3:\n",
        "        w=pd.read_csv('/content/gdrive/My Drive/Of/O'+str(i+1)+'.txt')\n",
        "    Z.append(np.array(w)[:,1:2])\n",
        "    y.append([0,1,0,0,0])\n",
        "    \n",
        "#c    \n",
        "for i in range(100):\n",
        "    if len(str(i+1))==1:\n",
        "        w=pd.read_csv('/content/gdrive/My Drive/Nf/N00'+str(i+1)+'.txt')\n",
        "    elif len(str(i+1))==2:\n",
        "        w=pd.read_csv('/content/gdrive/My Drive/Nf/N0'+str(i+1)+'.txt')\n",
        "    elif len(str(i+1))==3:\n",
        "        w=pd.read_csv('/content/gdrive/My Drive/Nf/N'+str(i+1)+'.txt')\n",
        "    Z.append(np.array(w)[:,1:2])\n",
        "    y.append([0,0,1,0,0])\n",
        "    \n",
        "    \n",
        "#d    \n",
        "for i in range(100):\n",
        "    if len(str(i+1))==1:\n",
        "        w=pd.read_csv('/content/gdrive/My Drive/Ff/F00'+str(i+1)+'.txt')\n",
        "    elif len(str(i+1))==2:\n",
        "        w=pd.read_csv('/content/gdrive/My Drive/Ff/F0'+str(i+1)+'.txt')\n",
        "    elif len(str(i+1))==3:\n",
        "        w=pd.read_csv('/content/gdrive/My Drive/Ff/F'+str(i+1)+'.txt')\n",
        "    Z.append(np.array(w)[:,1:2])\n",
        "    y.append([0,0,0,1,0])\n",
        "    \n",
        "\n",
        "#e\n",
        "for i in range(100):\n",
        "    if len(str(i+1))==1:\n",
        "        w=pd.read_csv('/content/gdrive/My Drive/Sf/S00'+str(i+1)+'.txt')\n",
        "    elif len(str(i+1))==2:\n",
        "        w=pd.read_csv('/content/gdrive/My Drive/Sf/S0'+str(i+1)+'.txt')\n",
        "    elif len(str(i+1))==3:\n",
        "        w=pd.read_csv('/content/gdrive/My Drive/Sf/S'+str(i+1)+'.txt')\n",
        "    Z.append(np.array(w)[:,1:2])\n",
        "    y.append([0,0,0,0,1])    "
      ],
      "execution_count": 0,
      "outputs": []
    },
    {
      "metadata": {
        "id": "YCt_GbnUcTS3",
        "colab_type": "text"
      },
      "cell_type": "markdown",
      "source": [
        "**3 class classification using alpha**"
      ]
    },
    {
      "metadata": {
        "id": "KAe_Zyhq57Q-",
        "colab_type": "code",
        "colab": {}
      },
      "cell_type": "code",
      "source": [
        "#3 class classification involving alpha\n",
        "Z=[]\n",
        "y=[]\n",
        "\n",
        "#b    \n",
        "    \n",
        "for i in range(100):\n",
        "    if len(str(i+1))==1:\n",
        "        w=pd.read_csv('/content/gdrive/My Drive/Of/O00'+str(i+1)+'.txt')\n",
        "    elif len(str(i+1))==2:\n",
        "        w=pd.read_csv('/content/gdrive/My Drive/Of/O0'+str(i+1)+'.txt')\n",
        "    elif len(str(i+1))==3:\n",
        "        w=pd.read_csv('/content/gdrive/My Drive/Of/O'+str(i+1)+'.txt')\n",
        "    Z.append(np.array(w)[:,2:3])\n",
        "    #y.append([0,1,0,0,0])\n",
        "\n",
        "    y.append([1,0,0])\n",
        "\n",
        "#c    \n",
        "for i in range(100):\n",
        "    if len(str(i+1))==1:\n",
        "        w=pd.read_csv('/content/gdrive/My Drive/Nf/N00'+str(i+1)+'.txt')\n",
        "    elif len(str(i+1))==2:\n",
        "        w=pd.read_csv('/content/gdrive/My Drive/Nf/N0'+str(i+1)+'.txt')\n",
        "    elif len(str(i+1))==3:\n",
        "        w=pd.read_csv('/content/gdrive/My Drive/Nf/N'+str(i+1)+'.txt')\n",
        "    Z.append(np.array(w)[:,2:3])\n",
        "    y.append([0,1,0])\n",
        "    \n",
        "    \n",
        "#e    \n",
        "for i in range(100):\n",
        "    if len(str(i+1))==1:\n",
        "        w=pd.read_csv('/content/gdrive/My Drive/Sf/S00'+str(i+1)+'.txt')\n",
        "    elif len(str(i+1))==2:\n",
        "        w=pd.read_csv('/content/gdrive/My Drive/Sf/S0'+str(i+1)+'.txt')\n",
        "    elif len(str(i+1))==3:\n",
        "        w=pd.read_csv('/content/gdrive/My Drive/Sf/S'+str(i+1)+'.txt')\n",
        "    Z.append(np.array(w)[:,2:3])\n",
        "    y.append([0,0,1])    "
      ],
      "execution_count": 0,
      "outputs": []
    },
    {
      "metadata": {
        "colab_type": "code",
        "id": "ni2WHFeIekeH",
        "colab": {}
      },
      "cell_type": "code",
      "source": [
        "#ALPHA\n",
        "import numpy as np\n",
        "import pandas as pd\n",
        "Z=[]\n",
        "y=[]\n",
        "#a\n",
        "for i in range(100):\n",
        "    if len(str(i+1))==1:\n",
        "        w=pd.read_csv('/content/gdrive/My Drive/Zf/Z00'+str(i+1)+'.txt')\n",
        "    elif len(str(i+1))==2:\n",
        "        w=pd.read_csv('/content/gdrive/My Drive/Zf/Z0'+str(i+1)+'.txt')\n",
        "    elif len(str(i+1))==3:\n",
        "        w=pd.read_csv('/content/gdrive/My Drive/Zf/Z'+str(i+1)+'.txt')\n",
        "    Z.append(np.array(w)[:,2:3])\n",
        "    y.append([1,0,0,0,0])\n",
        "\n",
        "#b    \n",
        "    \n",
        "for i in range(100):\n",
        "    if len(str(i+1))==1:\n",
        "        w=pd.read_csv('/content/gdrive/My Drive/Of/O00'+str(i+1)+'.txt')\n",
        "    elif len(str(i+1))==2:\n",
        "        w=pd.read_csv('/content/gdrive/My Drive/Of/O0'+str(i+1)+'.txt')\n",
        "    elif len(str(i+1))==3:\n",
        "        w=pd.read_csv('/content/gdrive/My Drive/Of/O'+str(i+1)+'.txt')\n",
        "    Z.append(np.array(w)[:,2:3])\n",
        "    y.append([0,1,0,0,0])\n",
        "    \n",
        "#c    \n",
        "for i in range(100):\n",
        "    if len(str(i+1))==1:\n",
        "        w=pd.read_csv('/content/gdrive/My Drive/Nf/N00'+str(i+1)+'.txt')\n",
        "    elif len(str(i+1))==2:\n",
        "        w=pd.read_csv('/content/gdrive/My Drive/Nf/N0'+str(i+1)+'.txt')\n",
        "    elif len(str(i+1))==3:\n",
        "        w=pd.read_csv('/content/gdrive/My Drive/Nf/N'+str(i+1)+'.txt')\n",
        "    Z.append(np.array(w)[:,2:3])\n",
        "    y.append([0,0,1,0,0])\n",
        "    \n",
        "\n",
        "#d    \n",
        "for i in range(100):\n",
        "    if len(str(i+1))==1:\n",
        "        w=pd.read_csv('/content/gdrive/My Drive/Ff/F00'+str(i+1)+'.txt')\n",
        "    elif len(str(i+1))==2:\n",
        "        w=pd.read_csv('/content/gdrive/My Drive/Ff/F0'+str(i+1)+'.txt')\n",
        "    elif len(str(i+1))==3:\n",
        "        w=pd.read_csv('/content/gdrive/My Drive/Ff/F'+str(i+1)+'.txt')\n",
        "    Z.append(np.array(w)[:,2:3])\n",
        "    y.append([0,0,0,1,0])\n",
        "    \n",
        "#e    \n",
        "for i in range(100):\n",
        "    if len(str(i+1))==1:\n",
        "        w=pd.read_csv('/content/gdrive/My Drive/Sf/S00'+str(i+1)+'.txt')\n",
        "    elif len(str(i+1))==2:\n",
        "        w=pd.read_csv('/content/gdrive/My Drive/Sf/S0'+str(i+1)+'.txt')\n",
        "    elif len(str(i+1))==3:\n",
        "        w=pd.read_csv('/content/gdrive/My Drive/Sf/S'+str(i+1)+'.txt')\n",
        "    Z.append(np.array(w)[:,2:3])\n",
        "    y.append([0,0,0,0,1])    "
      ],
      "execution_count": 0,
      "outputs": []
    },
    {
      "metadata": {
        "id": "EHewUhYM3Ijc",
        "colab_type": "code",
        "colab": {}
      },
      "cell_type": "code",
      "source": [
        "#ALPHA\n",
        "import numpy as np\n",
        "import pandas as pd\n",
        "Z=[]\n",
        "y=[]\n",
        "#a\n",
        "for i in range(100):\n",
        "    if len(str(i+1))==1:\n",
        "        w=pd.read_csv('/content/gdrive/My Drive/Zf/Z00'+str(i+1)+'.txt')\n",
        "    elif len(str(i+1))==2:\n",
        "        w=pd.read_csv('/content/gdrive/My Drive/Zf/Z0'+str(i+1)+'.txt')\n",
        "    elif len(str(i+1))==3:\n",
        "        w=pd.read_csv('/content/gdrive/My Drive/Zf/Z'+str(i+1)+'.txt')\n",
        "    Z.append(np.array(w)[:,2:3])\n",
        "    y.append([1,0,0,0,0])\n",
        "\n",
        "#b    \n",
        "    \n",
        "for i in range(100):\n",
        "    if len(str(i+1))==1:\n",
        "        w=pd.read_csv('/content/gdrive/My Drive/Of/O00'+str(i+1)+'.txt')\n",
        "    elif len(str(i+1))==2:\n",
        "        w=pd.read_csv('/content/gdrive/My Drive/Of/O0'+str(i+1)+'.txt')\n",
        "    elif len(str(i+1))==3:\n",
        "        w=pd.read_csv('/content/gdrive/My Drive/Of/O'+str(i+1)+'.txt')\n",
        "    Z.append(np.array(w)[:,2:3])\n",
        "    y.append([0,1,0,0,0])\n",
        "    \n",
        "#c    \n",
        "for i in range(100):\n",
        "    if len(str(i+1))==1:\n",
        "        w=pd.read_csv('/content/gdrive/My Drive/Nf/N00'+str(i+1)+'.txt')\n",
        "    elif len(str(i+1))==2:\n",
        "        w=pd.read_csv('/content/gdrive/My Drive/Nf/N0'+str(i+1)+'.txt')\n",
        "    elif len(str(i+1))==3:\n",
        "        w=pd.read_csv('/content/gdrive/My Drive/Nf/N'+str(i+1)+'.txt')\n",
        "    Z.append(np.array(w)[:,2:3])\n",
        "    y.append([0,0,1,0,0])\n",
        "    \n",
        "\n",
        "#d    \n",
        "for i in range(100):\n",
        "    if len(str(i+1))==1:\n",
        "        w=pd.read_csv('/content/gdrive/My Drive/Ff/F00'+str(i+1)+'.txt')\n",
        "    elif len(str(i+1))==2:\n",
        "        w=pd.read_csv('/content/gdrive/My Drive/Ff/F0'+str(i+1)+'.txt')\n",
        "    elif len(str(i+1))==3:\n",
        "        w=pd.read_csv('/content/gdrive/My Drive/Ff/F'+str(i+1)+'.txt')\n",
        "    Z.append(np.array(w)[:,2:3])\n",
        "    y.append([0,0,0,1,0])\n",
        "    \n",
        "#e    \n",
        "for i in range(100):\n",
        "    if len(str(i+1))==1:\n",
        "        w=pd.read_csv('/content/gdrive/My Drive/Sf/S00'+str(i+1)+'.txt')\n",
        "    elif len(str(i+1))==2:\n",
        "        w=pd.read_csv('/content/gdrive/My Drive/Sf/S0'+str(i+1)+'.txt')\n",
        "    elif len(str(i+1))==3:\n",
        "        w=pd.read_csv('/content/gdrive/My Drive/Sf/S'+str(i+1)+'.txt')\n",
        "    Z.append(np.array(w)[:,2:3])\n",
        "    y.append([0,0,0,0,1])    "
      ],
      "execution_count": 0,
      "outputs": []
    },
    {
      "metadata": {
        "id": "Ra0CfdCHzYcE",
        "colab_type": "text"
      },
      "cell_type": "markdown",
      "source": [
        "**3 class classification in beta signal**"
      ]
    },
    {
      "metadata": {
        "id": "BFXTSsUTzdDj",
        "colab_type": "code",
        "colab": {}
      },
      "cell_type": "code",
      "source": [
        "import numpy as np\n",
        "import pandas as pd\n",
        "Z=[]\n",
        "y=[]\n",
        "\n",
        "    \n",
        "    \n",
        "#B\n",
        "for i in range(100):\n",
        "    if len(str(i+1))==1:\n",
        "        w=pd.read_csv('/content/gdrive/My Drive/Of/O00'+str(i+1)+'.txt')\n",
        "    elif len(str(i+1))==2:\n",
        "        w=pd.read_csv('/content/gdrive/My Drive/Of/O0'+str(i+1)+'.txt')\n",
        "    elif len(str(i+1))==3:\n",
        "        w=pd.read_csv('/content/gdrive/My Drive/Of/O'+str(i+1)+'.txt')\n",
        "    Z.append(np.array(w)[:,3:4])\n",
        "    y.append([1,0,0])  \n",
        "\n",
        "\n",
        "#C    \n",
        "for i in range(100):\n",
        "    if len(str(i+1))==1:\n",
        "        w=pd.read_csv('/content/gdrive/My Drive/Nf/N00'+str(i+1)+'.txt')\n",
        "    elif len(str(i+1))==2:\n",
        "        w=pd.read_csv('/content/gdrive/My Drive/Nf/N0'+str(i+1)+'.txt')\n",
        "    elif len(str(i+1))==3:\n",
        "        w=pd.read_csv('/content/gdrive/My Drive/Nf/N'+str(i+1)+'.txt')\n",
        "    Z.append(np.array(w)[:,3:4])\n",
        "    y.append([0,1,0])\n",
        "    \n",
        "#E    \n",
        "for i in range(100):\n",
        "    if len(str(i+1))==1:\n",
        "        w=pd.read_csv('/content/gdrive/My Drive/Sf/S00'+str(i+1)+'.txt')\n",
        "    elif len(str(i+1))==2:\n",
        "        w=pd.read_csv('/content/gdrive/My Drive/Sf/S0'+str(i+1)+'.txt')\n",
        "    elif len(str(i+1))==3:\n",
        "        w=pd.read_csv('/content/gdrive/My Drive/Sf/S'+str(i+1)+'.txt')\n",
        "    Z.append(np.array(w)[:,3:4])\n",
        "    y.append([0,0,1])    "
      ],
      "execution_count": 0,
      "outputs": []
    },
    {
      "metadata": {
        "id": "XRJ0k29a3It_",
        "colab_type": "code",
        "colab": {}
      },
      "cell_type": "code",
      "source": [
        "#BETA\n",
        "import numpy as np\n",
        "import pandas as pd\n",
        "Z=[]\n",
        "y=[]\n",
        "#A\n",
        "for i in range(100):\n",
        "    if len(str(i+1))==1:\n",
        "        w=pd.read_csv('/content/gdrive/My Drive/Zf/Z00'+str(i+1)+'.txt')\n",
        "    elif len(str(i+1))==2:\n",
        "        w=pd.read_csv('/content/gdrive/My Drive/Zf/Z0'+str(i+1)+'.txt')\n",
        "    elif len(str(i+1))==3:\n",
        "        w=pd.read_csv('/content/gdrive/My Drive/Zf/Z'+str(i+1)+'.txt')\n",
        "    Z.append(np.array(w)[:,3:4])\n",
        "    y.append([1,0,0,0,0])\n",
        "    \n",
        "#B\n",
        "for i in range(100):\n",
        "    if len(str(i+1))==1:\n",
        "        w=pd.read_csv('/content/gdrive/My Drive/Of/O00'+str(i+1)+'.txt')\n",
        "    elif len(str(i+1))==2:\n",
        "        w=pd.read_csv('/content/gdrive/My Drive/Of/O0'+str(i+1)+'.txt')\n",
        "    elif len(str(i+1))==3:\n",
        "        w=pd.read_csv('/content/gdrive/My Drive/Of/O'+str(i+1)+'.txt')\n",
        "    Z.append(np.array(w)[:,3:4])\n",
        "    y.append([0,1,0,0,0])\n",
        "    \n",
        "#C    \n",
        "for i in range(100):\n",
        "    if len(str(i+1))==1:\n",
        "        w=pd.read_csv('/content/gdrive/My Drive/Nf/N00'+str(i+1)+'.txt')\n",
        "    elif len(str(i+1))==2:\n",
        "        w=pd.read_csv('/content/gdrive/My Drive/Nf/N0'+str(i+1)+'.txt')\n",
        "    elif len(str(i+1))==3:\n",
        "        w=pd.read_csv('/content/gdrive/My Drive/Nf/N'+str(i+1)+'.txt')\n",
        "    Z.append(np.array(w)[:,3:4])\n",
        "    y.append([0,0,1,0,0])\n",
        "    \n",
        "#D    \n",
        "for i in range(100):\n",
        "    if len(str(i+1))==1:\n",
        "        w=pd.read_csv('/content/gdrive/My Drive/Ff/F00'+str(i+1)+'.txt')\n",
        "    elif len(str(i+1))==2:\n",
        "        w=pd.read_csv('/content/gdrive/My Drive/Ff/F0'+str(i+1)+'.txt')\n",
        "    elif len(str(i+1))==3:\n",
        "        w=pd.read_csv('/content/gdrive/My Drive/Ff/F'+str(i+1)+'.txt')\n",
        "    Z.append(np.array(w)[:,3:4])\n",
        "    y.append([0,0,0,1,0])\n",
        "    \n",
        "#E    \n",
        "for i in range(100):\n",
        "    if len(str(i+1))==1:\n",
        "        w=pd.read_csv('/content/gdrive/My Drive/Sf/S00'+str(i+1)+'.txt')\n",
        "    elif len(str(i+1))==2:\n",
        "        w=pd.read_csv('/content/gdrive/My Drive/Sf/S0'+str(i+1)+'.txt')\n",
        "    elif len(str(i+1))==3:\n",
        "        w=pd.read_csv('/content/gdrive/My Drive/Sf/S'+str(i+1)+'.txt')\n",
        "    Z.append(np.array(w)[:,3:4])\n",
        "    y.append([0,0,0,0,1])    "
      ],
      "execution_count": 0,
      "outputs": []
    },
    {
      "metadata": {
        "id": "LhH7m3JHREDT",
        "colab_type": "text"
      },
      "cell_type": "markdown",
      "source": [
        "**3 class classification in gamma**"
      ]
    },
    {
      "metadata": {
        "id": "v8FP7hy1RVRH",
        "colab_type": "code",
        "colab": {}
      },
      "cell_type": "code",
      "source": [
        "#GAMMA\n",
        "import numpy as np\n",
        "import pandas as pd\n",
        "Z=[]\n",
        "y=[]\n",
        "\n",
        "#b  \n",
        "for i in range(100):\n",
        "    if len(str(i+1))==1:\n",
        "        w=pd.read_csv('/content/gdrive/My Drive/Of/O00'+str(i+1)+'.txt')\n",
        "    elif len(str(i+1))==2:\n",
        "        w=pd.read_csv('/content/gdrive/My Drive/Of/O0'+str(i+1)+'.txt')\n",
        "    elif len(str(i+1))==3:\n",
        "        w=pd.read_csv('/content/gdrive/My Drive/Of/O'+str(i+1)+'.txt')\n",
        "    Z.append(np.array(w)[:,4:5])\n",
        "    y.append([1,0,0])\n",
        "    \n",
        "#c\n",
        "    \n",
        "for i in range(100):\n",
        "    if len(str(i+1))==1:\n",
        "        w=pd.read_csv('/content/gdrive/My Drive/Nf/N00'+str(i+1)+'.txt')\n",
        "    elif len(str(i+1))==2:\n",
        "        w=pd.read_csv('/content/gdrive/My Drive/Nf/N0'+str(i+1)+'.txt')\n",
        "    elif len(str(i+1))==3:\n",
        "        w=pd.read_csv('/content/gdrive/My Drive/Nf/N'+str(i+1)+'.txt')\n",
        "    Z.append(np.array(w)[:,4:5])\n",
        "    y.append([0,1,0])\n",
        " \n",
        "#e    \n",
        "for i in range(100):\n",
        "    if len(str(i+1))==1:\n",
        "        w=pd.read_csv('/content/gdrive/My Drive/Sf/S00'+str(i+1)+'.txt')\n",
        "    elif len(str(i+1))==2:\n",
        "        w=pd.read_csv('/content/gdrive/My Drive/Sf/S0'+str(i+1)+'.txt')\n",
        "    elif len(str(i+1))==3:\n",
        "        w=pd.read_csv('/content/gdrive/My Drive/Sf/S'+str(i+1)+'.txt')\n",
        "    Z.append(np.array(w)[:,4:5])\n",
        "    y.append([0,0,1])    \n",
        "    \n"
      ],
      "execution_count": 0,
      "outputs": []
    },
    {
      "metadata": {
        "id": "87Gda9NV3I6j",
        "colab_type": "code",
        "colab": {}
      },
      "cell_type": "code",
      "source": [
        "#GAMMA\n",
        "import numpy as np\n",
        "import pandas as pd\n",
        "Z=[]\n",
        "y=[]\n",
        "#a\n",
        "for i in range(100):\n",
        "    if len(str(i+1))==1:\n",
        "        w=pd.read_csv('/content/gdrive/My Drive/Zf/Z00'+str(i+1)+'.txt')\n",
        "    elif len(str(i+1))==2:\n",
        "        w=pd.read_csv('/content/gdrive/My Drive/Zf/Z0'+str(i+1)+'.txt')\n",
        "    elif len(str(i+1))==3:\n",
        "        w=pd.read_csv('/content/gdrive/My Drive/Zf/Z'+str(i+1)+'.txt')\n",
        "    Z.append(np.array(w)[:,4:5])\n",
        "    y.append([1,0,0,0,0])\n",
        "    \n",
        "#b  \n",
        "for i in range(100):\n",
        "    if len(str(i+1))==1:\n",
        "        w=pd.read_csv('/content/gdrive/My Drive/Of/O00'+str(i+1)+'.txt')\n",
        "    elif len(str(i+1))==2:\n",
        "        w=pd.read_csv('/content/gdrive/My Drive/Of/O0'+str(i+1)+'.txt')\n",
        "    elif len(str(i+1))==3:\n",
        "        w=pd.read_csv('/content/gdrive/My Drive/Of/O'+str(i+1)+'.txt')\n",
        "    Z.append(np.array(w)[:,4:5])\n",
        "    y.append([0,1,0,0,0])\n",
        "\n",
        "#c\n",
        "    \n",
        "for i in range(100):\n",
        "    if len(str(i+1))==1:\n",
        "        w=pd.read_csv('/content/gdrive/My Drive/Nf/N00'+str(i+1)+'.txt')\n",
        "    elif len(str(i+1))==2:\n",
        "        w=pd.read_csv('/content/gdrive/My Drive/Nf/N0'+str(i+1)+'.txt')\n",
        "    elif len(str(i+1))==3:\n",
        "        w=pd.read_csv('/content/gdrive/My Drive/Nf/N'+str(i+1)+'.txt')\n",
        "    Z.append(np.array(w)[:,4:5])\n",
        "    y.append([0,0,1,0,0])\n",
        "    \n",
        "#d    \n",
        "for i in range(100):\n",
        "    if len(str(i+1))==1:\n",
        "        w=pd.read_csv('/content/gdrive/My Drive/Ff/F00'+str(i+1)+'.txt')\n",
        "    elif len(str(i+1))==2:\n",
        "        w=pd.read_csv('/content/gdrive/My Drive/Ff/F0'+str(i+1)+'.txt')\n",
        "    elif len(str(i+1))==3:\n",
        "        w=pd.read_csv('/content/gdrive/My Drive/Ff/F'+str(i+1)+'.txt')\n",
        "    Z.append(np.array(w)[:,4:5])\n",
        "    y.append([0,0,0,1,0])\n",
        "    \n",
        "#e    \n",
        "for i in range(100):\n",
        "    if len(str(i+1))==1:\n",
        "        w=pd.read_csv('/content/gdrive/My Drive/Sf/S00'+str(i+1)+'.txt')\n",
        "    elif len(str(i+1))==2:\n",
        "        w=pd.read_csv('/content/gdrive/My Drive/Sf/S0'+str(i+1)+'.txt')\n",
        "    elif len(str(i+1))==3:\n",
        "        w=pd.read_csv('/content/gdrive/My Drive/Sf/S'+str(i+1)+'.txt')\n",
        "    Z.append(np.array(w)[:,4:5])\n",
        "    y.append([0,0,0,0,1])    "
      ],
      "execution_count": 0,
      "outputs": []
    },
    {
      "metadata": {
        "id": "a6PHC50k5nQ1",
        "colab_type": "code",
        "colab": {}
      },
      "cell_type": "code",
      "source": [
        ""
      ],
      "execution_count": 0,
      "outputs": []
    },
    {
      "metadata": {
        "id": "ha2m7uaaJhPl",
        "colab_type": "code",
        "colab": {}
      },
      "cell_type": "code",
      "source": [
        "\n",
        "# A-eyes opened\n",
        "import numpy as np\n",
        "import pandas as pd\n",
        "Z=[]\n",
        "y=[]\n",
        "for i in range(100):\n",
        "    if len(str(i+1))==1:\n",
        "        w=pd.read_csv('/content/gdrive/My Drive/Z/Z00'+str(i+1)+'.txt')\n",
        "    elif len(str(i+1))==2:\n",
        "        w=pd.read_csv('/content/gdrive/My Drive/Z/Z0'+str(i+1)+'.txt')\n",
        "    elif len(str(i+1))==3:\n",
        "        w=pd.read_csv('/content/gdrive/My Drive/Z/Z'+str(i+1)+'.txt')\n",
        "    Z.append(np.array(w))\n",
        "    #y.append([1,0,0,0,0])\n",
        "    y.append([1,0,0])"
      ],
      "execution_count": 0,
      "outputs": []
    },
    {
      "metadata": {
        "id": "DeuJEEcvJhPt",
        "colab_type": "code",
        "colab": {}
      },
      "cell_type": "code",
      "source": [
        "# B eyes closed\n",
        "Z=[]\n",
        "y=[]\n",
        "for i in range(100):\n",
        "    if len(str(i+1))==1:\n",
        "        w=pd.read_csv('/content/gdrive/My Drive/O/O00'+str(i+1)+'.txt')\n",
        "    elif len(str(i+1))==2:\n",
        "        w=pd.read_csv('/content/gdrive/My Drive/O/O0'+str(i+1)+'.txt')\n",
        "    elif len(str(i+1))==3:\n",
        "        w=pd.read_csv('/content/gdrive/My Drive/O/O'+str(i+1)+'.txt')\n",
        "    Z.append(np.array(w))\n",
        "    #y.append([0,1,0,0,0])\n",
        "    y.append([1,0,0])"
      ],
      "execution_count": 0,
      "outputs": []
    },
    {
      "metadata": {
        "id": "4KZK9ovEJhP1",
        "colab_type": "code",
        "outputId": "6d0c5069-2e25-41fa-bd26-e5a1ae19587c",
        "colab": {
          "base_uri": "https://localhost:8080/",
          "height": 34
        }
      },
      "cell_type": "code",
      "source": [
        "len(Z)"
      ],
      "execution_count": 0,
      "outputs": [
        {
          "output_type": "execute_result",
          "data": {
            "text/plain": [
              "200"
            ]
          },
          "metadata": {
            "tags": []
          },
          "execution_count": 7
        }
      ]
    },
    {
      "metadata": {
        "id": "pWMIbU29Rj1T",
        "colab_type": "code",
        "outputId": "9fca96d7-994d-4c41-8144-f908ec55faad",
        "colab": {
          "base_uri": "https://localhost:8080/",
          "height": 180
        }
      },
      "cell_type": "code",
      "source": [
        "import tensorflow as tf\n",
        "#tf.test.tpu_device_name()"
      ],
      "execution_count": 0,
      "outputs": [
        {
          "output_type": "error",
          "ename": "AttributeError",
          "evalue": "ignored",
          "traceback": [
            "\u001b[0;31m\u001b[0m",
            "\u001b[0;31mAttributeError\u001b[0mTraceback (most recent call last)",
            "\u001b[0;32m<ipython-input-2-f4dcb5f51a3b>\u001b[0m in \u001b[0;36m<module>\u001b[0;34m()\u001b[0m\n\u001b[1;32m      1\u001b[0m \u001b[0;32mimport\u001b[0m \u001b[0mtensorflow\u001b[0m \u001b[0;32mas\u001b[0m \u001b[0mtf\u001b[0m\u001b[0;34m\u001b[0m\u001b[0m\n\u001b[0;32m----> 2\u001b[0;31m \u001b[0mtf\u001b[0m\u001b[0;34m.\u001b[0m\u001b[0mtest\u001b[0m\u001b[0;34m.\u001b[0m\u001b[0mtpu_device_name\u001b[0m\u001b[0;34m(\u001b[0m\u001b[0;34m)\u001b[0m\u001b[0;34m\u001b[0m\u001b[0m\n\u001b[0m",
            "\u001b[0;31mAttributeError\u001b[0m: 'module' object has no attribute 'tpu_device_name'"
          ]
        }
      ]
    },
    {
      "metadata": {
        "id": "R8gYVmo8JhP-",
        "colab_type": "code",
        "colab": {}
      },
      "cell_type": "code",
      "source": [
        "#C epileptogenic zone of patienrs\n",
        "#Z=[]\n",
        "for i in range(100):\n",
        "    if len(str(i+1))==1:\n",
        "        w=pd.read_csv('/content/gdrive/My Drive/N/N00'+str(i+1)+'.TXT')\n",
        "    elif len(str(i+1))==2:\n",
        "        w=pd.read_csv('/content/gdrive/My Drive/N/N0'+str(i+1)+'.TXT')\n",
        "    elif len(str(i+1))==3:\n",
        "        w=pd.read_csv('/content/gdrive/My Drive/N/N'+str(i+1)+'.TXT')\n",
        "    Z.append(np.array(w))\n",
        "    #y.append([0,0,1,0,0])\n",
        "    y.append([0,1,0])\n",
        "#C=np.array(Z)"
      ],
      "execution_count": 0,
      "outputs": []
    },
    {
      "metadata": {
        "id": "TAXtdggnJhQF",
        "colab_type": "code",
        "outputId": "4fb9bbc4-3495-4c33-cfab-ead93eaa76ac",
        "colab": {
          "base_uri": "https://localhost:8080/",
          "height": 34
        }
      },
      "cell_type": "code",
      "source": [
        "print(len(Z),len(y))"
      ],
      "execution_count": 0,
      "outputs": [
        {
          "output_type": "stream",
          "text": [
            "(300, 300)\n"
          ],
          "name": "stdout"
        }
      ]
    },
    {
      "metadata": {
        "id": "-X2K3IcqJhQN",
        "colab_type": "code",
        "colab": {}
      },
      "cell_type": "code",
      "source": [
        "#D-hippocampal of epileptic pateints\n",
        "#Z=[]\n",
        "for i in range(100):\n",
        "    if len(str(i+1))==1:\n",
        "        w=pd.read_csv('/content/gdrive/My Drive/F/F00'+str(i+1)+'.txt')\n",
        "    elif len(str(i+1))==2:\n",
        "        w=pd.read_csv('/content/gdrive/My Drive/F/F0'+str(i+1)+'.txt')\n",
        "    elif len(str(i+1))==3:\n",
        "        w=pd.read_csv('/content/gdrive/My Drive/F/F'+str(i+1)+'.txt')\n",
        "    Z.append(np.array(w))\n",
        "    #y.append([0,0,0,1,0])\n",
        "    y.append([0,1,0])\n",
        "    \n",
        "#D=np.array(Z)"
      ],
      "execution_count": 0,
      "outputs": []
    },
    {
      "metadata": {
        "id": "ll62E08TJhQV",
        "colab_type": "code",
        "outputId": "abf278c4-5757-486f-96de-338be083b5d9",
        "colab": {
          "base_uri": "https://localhost:8080/",
          "height": 34
        }
      },
      "cell_type": "code",
      "source": [
        "print(len(Z),len(y))"
      ],
      "execution_count": 0,
      "outputs": [
        {
          "output_type": "stream",
          "text": [
            "(300, 300)\n"
          ],
          "name": "stdout"
        }
      ]
    },
    {
      "metadata": {
        "id": "C58LCxuRJhQk",
        "colab_type": "code",
        "colab": {}
      },
      "cell_type": "code",
      "source": [
        "#E-during siezure\n",
        "#Z=[]\n",
        "for i in range(100):\n",
        "    if len(str(i+1))==1:\n",
        "        w=pd.read_csv('/content/gdrive/My Drive/S/S00'+str(i+1)+'.txt')\n",
        "    elif len(str(i+1))==2:\n",
        "        w=pd.read_csv('/content/gdrive/My Drive/S/S0'+str(i+1)+'.txt')\n",
        "    elif len(str(i+1))==3:\n",
        "        w=pd.read_csv('/content/gdrive/My Drive/S/S'+str(i+1)+'.txt')\n",
        "    Z.append(np.array(w))\n",
        "    #y.append([0,0,0,0,1])\n",
        "    y.append([0,0,1])\n",
        "#E=np.array(Z)"
      ],
      "execution_count": 0,
      "outputs": []
    },
    {
      "metadata": {
        "id": "GJdXAyofdb0k",
        "colab_type": "code",
        "colab": {}
      },
      "cell_type": "code",
      "source": [
        "#do it later\n",
        "def train(Xtrain,ytrain):\n",
        "  #data=Xtrain.reshape(400,2048,2)\n",
        "  data=Xtrain.reshape(240,2048,2)\n",
        "  \n",
        "  #labels=ytrain.reshape(400,1,5)\n",
        "  labels=ytrain.reshape(240,1,3)#when no of classes are 3\n",
        "  \n",
        "  inputs=Input(shape=(2048,2,))\n",
        "  ls=LSTM(100,return_sequences=True)(inputs)\n",
        "  td=TimeDistributed(Dense(50,activation='relu'))(ls)\n",
        "  pool = AveragePooling1D(2048)(td)\n",
        "  \n",
        "  print(ls.shape)\n",
        "  print(td.shape)\n",
        "  print(pool.shape)\n",
        "  \n",
        "  pred = Dense(3, activation='softmax')(pool)\n",
        "  \n",
        "  \n",
        "  #print(pred.shape)\n",
        "  \n",
        "  model=Model(inputs=inputs,outputs=pred)\n",
        "  model.compile(optimizer='adam',\n",
        "              loss='categorical_crossentropy',\n",
        "              metrics=['accuracy'])\n",
        "  model.fit(data, labels,batch_size=64,epochs=40)\n",
        "  \n",
        "  return model\n",
        "  \n",
        "  \n",
        "  "
      ],
      "execution_count": 0,
      "outputs": []
    },
    {
      "metadata": {
        "id": "yk_5jqVMJhQq",
        "colab_type": "code",
        "outputId": "119ad253-e880-4a1e-bf9f-406db2038164",
        "colab": {
          "base_uri": "https://localhost:8080/",
          "height": 34
        }
      },
      "cell_type": "code",
      "source": [
        "print(len(Z),len(y))"
      ],
      "execution_count": 0,
      "outputs": [
        {
          "output_type": "stream",
          "text": [
            "(300, 300)\n"
          ],
          "name": "stdout"
        }
      ]
    },
    {
      "metadata": {
        "id": "nb5mLoXWJhQ1",
        "colab_type": "code",
        "colab": {}
      },
      "cell_type": "code",
      "source": [
        "X = np.array(Z)\n",
        "Y = np.array(y)"
      ],
      "execution_count": 0,
      "outputs": []
    },
    {
      "metadata": {
        "id": "saOaretiJhQ8",
        "colab_type": "code",
        "colab": {}
      },
      "cell_type": "code",
      "source": [
        "#X=X.reshape(500,4096)\n",
        "X=X.reshape(300,4096)"
      ],
      "execution_count": 0,
      "outputs": []
    },
    {
      "metadata": {
        "id": "1j4d48pkJhRC",
        "colab_type": "code",
        "outputId": "eab5ac47-5fad-42d6-966a-6ddec6775ae1",
        "colab": {
          "base_uri": "https://localhost:8080/",
          "height": 34
        }
      },
      "cell_type": "code",
      "source": [
        "X.shape"
      ],
      "execution_count": 0,
      "outputs": [
        {
          "output_type": "execute_result",
          "data": {
            "text/plain": [
              "(300, 4096)"
            ]
          },
          "metadata": {
            "tags": []
          },
          "execution_count": 6
        }
      ]
    },
    {
      "metadata": {
        "id": "UQ18R9wGJhRI",
        "colab_type": "code",
        "colab": {}
      },
      "cell_type": "code",
      "source": [
        "from sklearn.utils import shuffle\n",
        "from scipy.sparse import coo_matrix\n"
      ],
      "execution_count": 0,
      "outputs": []
    },
    {
      "metadata": {
        "id": "du0xSKsPJhRO",
        "colab_type": "code",
        "colab": {}
      },
      "cell_type": "code",
      "source": [
        "X_sparse = coo_matrix(X)"
      ],
      "execution_count": 0,
      "outputs": []
    },
    {
      "metadata": {
        "id": "2iIRwvPxJhRU",
        "colab_type": "code",
        "colab": {}
      },
      "cell_type": "code",
      "source": [
        "X, X_sparse, y = shuffle(X, X_sparse, Y, random_state=0)"
      ],
      "execution_count": 0,
      "outputs": []
    },
    {
      "metadata": {
        "id": "TBlM9WLYJhRb",
        "colab_type": "code",
        "colab": {}
      },
      "cell_type": "code",
      "source": [
        "from sklearn.model_selection import train_test_split\n",
        "Xtrain, Xtest, ytrain, ytest = train_test_split(X, y, test_size=0.2, random_state=42)"
      ],
      "execution_count": 0,
      "outputs": []
    },
    {
      "metadata": {
        "id": "fFjCHlccJhRi",
        "colab_type": "code",
        "outputId": "3843713e-e409-4309-8edd-67f2827ac6ee",
        "colab": {
          "base_uri": "https://localhost:8080/",
          "height": 34
        }
      },
      "cell_type": "code",
      "source": [
        "Xtrain.shape"
      ],
      "execution_count": 0,
      "outputs": [
        {
          "output_type": "execute_result",
          "data": {
            "text/plain": [
              "(240, 4096)"
            ]
          },
          "metadata": {
            "tags": []
          },
          "execution_count": 11
        }
      ]
    },
    {
      "metadata": {
        "id": "I3ADYb1xJhRx",
        "colab_type": "code",
        "colab": {}
      },
      "cell_type": "code",
      "source": [
        "#data=Xtrain.reshape(400,2048,2)\n",
        "data=Xtrain.reshape(240,2048,2)"
      ],
      "execution_count": 0,
      "outputs": []
    },
    {
      "metadata": {
        "id": "iF1pTwMqecCA",
        "colab_type": "code",
        "colab": {}
      },
      "cell_type": "code",
      "source": [
        ""
      ],
      "execution_count": 0,
      "outputs": []
    },
    {
      "metadata": {
        "id": "_ivyRx72eb5Z",
        "colab_type": "code",
        "colab": {}
      },
      "cell_type": "code",
      "source": [
        ""
      ],
      "execution_count": 0,
      "outputs": []
    },
    {
      "metadata": {
        "id": "MxzUQKiVJhR6",
        "colab_type": "code",
        "colab": {}
      },
      "cell_type": "code",
      "source": [
        "#labels=ytrain.reshape(400,1,5)\n",
        "labels=ytrain.reshape(240,1,3)#when no of classes are 3"
      ],
      "execution_count": 0,
      "outputs": []
    },
    {
      "metadata": {
        "id": "NnJqJPikJhSE",
        "colab_type": "code",
        "colab": {}
      },
      "cell_type": "code",
      "source": [
        "inputs=Input(shape=(2048,2,))\n",
        "ls=LSTM(100,return_sequences=True )(inputs)\n",
        "td=TimeDistributed(Dense(50,activation='relu'))(ls)\n",
        "pool = AveragePooling1D(2048)(td)"
      ],
      "execution_count": 0,
      "outputs": []
    },
    {
      "metadata": {
        "id": "zvASYjqJJhSM",
        "colab_type": "code",
        "outputId": "51ca2bde-c739-4220-d097-7870798a84d3",
        "colab": {
          "base_uri": "https://localhost:8080/",
          "height": 68
        }
      },
      "cell_type": "code",
      "source": [
        "print(ls.shape)\n",
        "print(td.shape)\n",
        "print(pool.shape)"
      ],
      "execution_count": 0,
      "outputs": [
        {
          "output_type": "stream",
          "text": [
            "(?, ?, 100)\n",
            "(?, 2048, 50)\n",
            "(?, 1, 50)\n"
          ],
          "name": "stdout"
        }
      ]
    },
    {
      "metadata": {
        "id": "bNQbpk9IJhSU",
        "colab_type": "code",
        "colab": {}
      },
      "cell_type": "code",
      "source": [
        "pred = Dense(3, activation='softmax')(pool)\n"
      ],
      "execution_count": 0,
      "outputs": []
    },
    {
      "metadata": {
        "id": "_Kdymo8WJhSX",
        "colab_type": "code",
        "outputId": "a7b72260-76c0-4fdf-d822-1f03df3afb31",
        "colab": {
          "base_uri": "https://localhost:8080/",
          "height": 34
        }
      },
      "cell_type": "code",
      "source": [
        "print(pred.shape)"
      ],
      "execution_count": 0,
      "outputs": [
        {
          "output_type": "stream",
          "text": [
            "(?, 1, 3)\n"
          ],
          "name": "stdout"
        }
      ]
    },
    {
      "metadata": {
        "id": "M_Y9KPB1JhSg",
        "colab_type": "code",
        "outputId": "88431c98-0866-4033-e8f9-be9e1fd9bea8",
        "colab": {
          "base_uri": "https://localhost:8080/",
          "height": 1414
        }
      },
      "cell_type": "code",
      "source": [
        "model=Model(inputs=inputs,outputs=pred)\n",
        "model.compile(optimizer='adam',\n",
        "              loss='categorical_crossentropy',\n",
        "              metrics=['accuracy'])\n",
        "model.fit(data, labels,batch_size=64,epochs=40)"
      ],
      "execution_count": 0,
      "outputs": [
        {
          "output_type": "stream",
          "text": [
            "Epoch 1/40\n",
            "240/240 [==============================] - 13s 54ms/step - loss: 1.0588 - acc: 0.4917\n",
            "Epoch 2/40\n",
            "240/240 [==============================] - 11s 46ms/step - loss: 1.0058 - acc: 0.5333\n",
            "Epoch 3/40\n",
            "240/240 [==============================] - 11s 46ms/step - loss: 0.9552 - acc: 0.5625\n",
            "Epoch 4/40\n",
            "240/240 [==============================] - 11s 45ms/step - loss: 0.9059 - acc: 0.6167\n",
            "Epoch 5/40\n",
            "240/240 [==============================] - 11s 45ms/step - loss: 0.8553 - acc: 0.6833\n",
            "Epoch 6/40\n",
            "240/240 [==============================] - 11s 46ms/step - loss: 0.7961 - acc: 0.7083\n",
            "Epoch 7/40\n",
            "240/240 [==============================] - 11s 46ms/step - loss: 0.7135 - acc: 0.7458\n",
            "Epoch 8/40\n",
            "240/240 [==============================] - 11s 45ms/step - loss: 0.6979 - acc: 0.6917\n",
            "Epoch 9/40\n",
            "240/240 [==============================] - 11s 45ms/step - loss: 0.6805 - acc: 0.6375\n",
            "Epoch 10/40\n",
            "240/240 [==============================] - 11s 45ms/step - loss: 0.8210 - acc: 0.5750\n",
            "Epoch 11/40\n",
            "240/240 [==============================] - 11s 45ms/step - loss: 0.8432 - acc: 0.5750\n",
            "Epoch 12/40\n",
            "240/240 [==============================] - 11s 45ms/step - loss: 0.7908 - acc: 0.6375\n",
            "Epoch 13/40\n",
            "240/240 [==============================] - 11s 45ms/step - loss: 0.7301 - acc: 0.6542\n",
            "Epoch 14/40\n",
            "240/240 [==============================] - 11s 46ms/step - loss: 0.6867 - acc: 0.7000\n",
            "Epoch 15/40\n",
            "240/240 [==============================] - 11s 48ms/step - loss: 0.6688 - acc: 0.7292\n",
            "Epoch 16/40\n",
            "240/240 [==============================] - 11s 47ms/step - loss: 0.6593 - acc: 0.7500\n",
            "Epoch 17/40\n",
            "240/240 [==============================] - 11s 46ms/step - loss: 0.6509 - acc: 0.7500\n",
            "Epoch 18/40\n",
            "240/240 [==============================] - 11s 46ms/step - loss: 0.6390 - acc: 0.7500\n",
            "Epoch 19/40\n",
            "240/240 [==============================] - 11s 46ms/step - loss: 0.6269 - acc: 0.7625\n",
            "Epoch 20/40\n",
            "240/240 [==============================] - 11s 45ms/step - loss: 0.6117 - acc: 0.7542\n",
            "Epoch 21/40\n",
            "240/240 [==============================] - 11s 45ms/step - loss: 0.6010 - acc: 0.7458\n",
            "Epoch 22/40\n",
            "240/240 [==============================] - 11s 45ms/step - loss: 0.5899 - acc: 0.7417\n",
            "Epoch 23/40\n",
            "240/240 [==============================] - 11s 46ms/step - loss: 0.5786 - acc: 0.7458\n",
            "Epoch 24/40\n",
            "240/240 [==============================] - 11s 45ms/step - loss: 0.5613 - acc: 0.7625\n",
            "Epoch 25/40\n",
            "240/240 [==============================] - 11s 46ms/step - loss: 0.5410 - acc: 0.7750\n",
            "Epoch 26/40\n",
            "240/240 [==============================] - 11s 45ms/step - loss: 0.5185 - acc: 0.8042\n",
            "Epoch 27/40\n",
            "240/240 [==============================] - 11s 45ms/step - loss: 0.4986 - acc: 0.7875\n",
            "Epoch 28/40\n",
            "240/240 [==============================] - 11s 45ms/step - loss: 0.5551 - acc: 0.7708\n",
            "Epoch 29/40\n",
            "240/240 [==============================] - 11s 45ms/step - loss: 0.4866 - acc: 0.8125\n",
            "Epoch 30/40\n",
            "240/240 [==============================] - 11s 46ms/step - loss: 0.4633 - acc: 0.8375\n",
            "Epoch 31/40\n",
            "240/240 [==============================] - 11s 45ms/step - loss: 0.4527 - acc: 0.8167\n",
            "Epoch 32/40\n",
            "240/240 [==============================] - 11s 45ms/step - loss: 0.4093 - acc: 0.8583\n",
            "Epoch 33/40\n",
            "240/240 [==============================] - 11s 46ms/step - loss: 0.3783 - acc: 0.8500\n",
            "Epoch 34/40\n",
            "240/240 [==============================] - 11s 46ms/step - loss: 0.3681 - acc: 0.8500\n",
            "Epoch 35/40\n",
            "240/240 [==============================] - 11s 45ms/step - loss: 0.4292 - acc: 0.8375\n",
            "Epoch 36/40\n",
            "240/240 [==============================] - 11s 46ms/step - loss: 0.4113 - acc: 0.8458\n",
            "Epoch 37/40\n",
            "240/240 [==============================] - 11s 45ms/step - loss: 0.3458 - acc: 0.8625\n",
            "Epoch 38/40\n",
            "240/240 [==============================] - 11s 46ms/step - loss: 0.3453 - acc: 0.8875\n",
            "Epoch 39/40\n",
            "240/240 [==============================] - 11s 45ms/step - loss: 0.3285 - acc: 0.9000\n",
            "Epoch 40/40\n",
            "240/240 [==============================] - 11s 46ms/step - loss: 0.3028 - acc: 0.9042\n"
          ],
          "name": "stdout"
        },
        {
          "output_type": "execute_result",
          "data": {
            "text/plain": [
              "<keras.callbacks.History at 0x7fd5697b46d0>"
            ]
          },
          "metadata": {
            "tags": []
          },
          "execution_count": 18
        }
      ]
    },
    {
      "metadata": {
        "id": "BArQZJDGxbKr",
        "colab_type": "code",
        "outputId": "30e02cfe-8e19-4601-a6e4-4a588cf5f4bd",
        "colab": {
          "base_uri": "https://localhost:8080/",
          "height": 85
        }
      },
      "cell_type": "code",
      "source": [
        "preds = model.evaluate(Xtest.reshape(60,2048,2), ytest.reshape(60,1,3), batch_size=32, verbose=1, sample_weight=None)\n",
        "print()\n",
        "print (\"Loss = \" + str(preds[0]))\n",
        "print (\"Test Accuracy = \" + str(preds[1]))"
      ],
      "execution_count": 0,
      "outputs": [
        {
          "output_type": "stream",
          "text": [
            "60/60 [==============================] - 1s 15ms/step\n",
            "()\n",
            "Loss = 0.3346348345279694\n",
            "Test Accuracy = 0.8833333293596903\n"
          ],
          "name": "stdout"
        }
      ]
    },
    {
      "metadata": {
        "id": "LSriuzySx_tB",
        "colab_type": "code",
        "colab": {}
      },
      "cell_type": "code",
      "source": [
        "from sklearn.model_selection import KFold\n",
        "kf = KFold(n_splits=5,shuffle=True)"
      ],
      "execution_count": 0,
      "outputs": []
    },
    {
      "metadata": {
        "id": "XUjoiGaWYShu",
        "colab_type": "code",
        "outputId": "6da0104d-a52c-4511-a34d-dac511185b26",
        "colab": {
          "base_uri": "https://localhost:8080/",
          "height": 34
        }
      },
      "cell_type": "code",
      "source": [
        "kf.get_n_splits(X)"
      ],
      "execution_count": 0,
      "outputs": [
        {
          "output_type": "execute_result",
          "data": {
            "text/plain": [
              "5"
            ]
          },
          "metadata": {
            "tags": []
          },
          "execution_count": 23
        }
      ]
    },
    {
      "metadata": {
        "id": "2kmSg0EqYSgx",
        "colab_type": "code",
        "outputId": "eb78cdfe-036a-475c-a689-5fa92b6b6259",
        "colab": {
          "base_uri": "https://localhost:8080/",
          "height": 34
        }
      },
      "cell_type": "code",
      "source": [
        "print(kf)"
      ],
      "execution_count": 0,
      "outputs": [
        {
          "output_type": "stream",
          "text": [
            "KFold(n_splits=5, random_state=None, shuffle=True)\n"
          ],
          "name": "stdout"
        }
      ]
    },
    {
      "metadata": {
        "id": "UmPzEwLyYSdR",
        "colab_type": "code",
        "outputId": "a29372dc-bdb9-4519-906a-1ab6dace4589",
        "colab": {
          "base_uri": "https://localhost:8080/",
          "height": 231
        }
      },
      "cell_type": "code",
      "source": [
        "for train_index, test_index in kf.split(X):\n",
        "  X_train, X_test = X[train_index], X[test_index]\n",
        "  y_train, y_test = y[train_index], y[test_index]\n",
        "  \n",
        "  model=train(X_train,y_train)\n",
        "  \n",
        "  preds = model.evaluate(Xtest.reshape(60,2048,2), ytest.reshape(60,1,3), batch_size=32, verbose=1, sample_weight=None)\n",
        "\n",
        "  print (\"Loss = \" + str(preds[0]))\n",
        "  print (\"Test Accuracy = \" + str(preds[1]))\n",
        "  \n",
        "  print(X_train.shape,y_train.shape)"
      ],
      "execution_count": 0,
      "outputs": [
        {
          "output_type": "error",
          "ename": "NameError",
          "evalue": "ignored",
          "traceback": [
            "\u001b[0;31m\u001b[0m",
            "\u001b[0;31mNameError\u001b[0mTraceback (most recent call last)",
            "\u001b[0;32m<ipython-input-25-007de887db64>\u001b[0m in \u001b[0;36m<module>\u001b[0;34m()\u001b[0m\n\u001b[1;32m      3\u001b[0m   \u001b[0my_train\u001b[0m\u001b[0;34m,\u001b[0m \u001b[0my_test\u001b[0m \u001b[0;34m=\u001b[0m \u001b[0my\u001b[0m\u001b[0;34m[\u001b[0m\u001b[0mtrain_index\u001b[0m\u001b[0;34m]\u001b[0m\u001b[0;34m,\u001b[0m \u001b[0my\u001b[0m\u001b[0;34m[\u001b[0m\u001b[0mtest_index\u001b[0m\u001b[0;34m]\u001b[0m\u001b[0;34m\u001b[0m\u001b[0m\n\u001b[1;32m      4\u001b[0m \u001b[0;34m\u001b[0m\u001b[0m\n\u001b[0;32m----> 5\u001b[0;31m   \u001b[0mmodel\u001b[0m\u001b[0;34m=\u001b[0m\u001b[0mtrain\u001b[0m\u001b[0;34m(\u001b[0m\u001b[0mX_train\u001b[0m\u001b[0;34m,\u001b[0m\u001b[0my_train\u001b[0m\u001b[0;34m)\u001b[0m\u001b[0;34m\u001b[0m\u001b[0m\n\u001b[0m\u001b[1;32m      6\u001b[0m \u001b[0;34m\u001b[0m\u001b[0m\n\u001b[1;32m      7\u001b[0m   \u001b[0mpreds\u001b[0m \u001b[0;34m=\u001b[0m \u001b[0mmodel\u001b[0m\u001b[0;34m.\u001b[0m\u001b[0mevaluate\u001b[0m\u001b[0;34m(\u001b[0m\u001b[0mXtest\u001b[0m\u001b[0;34m.\u001b[0m\u001b[0mreshape\u001b[0m\u001b[0;34m(\u001b[0m\u001b[0;36m60\u001b[0m\u001b[0;34m,\u001b[0m\u001b[0;36m2048\u001b[0m\u001b[0;34m,\u001b[0m\u001b[0;36m2\u001b[0m\u001b[0;34m)\u001b[0m\u001b[0;34m,\u001b[0m \u001b[0mytest\u001b[0m\u001b[0;34m.\u001b[0m\u001b[0mreshape\u001b[0m\u001b[0;34m(\u001b[0m\u001b[0;36m60\u001b[0m\u001b[0;34m,\u001b[0m\u001b[0;36m1\u001b[0m\u001b[0;34m,\u001b[0m\u001b[0;36m3\u001b[0m\u001b[0;34m)\u001b[0m\u001b[0;34m,\u001b[0m \u001b[0mbatch_size\u001b[0m\u001b[0;34m=\u001b[0m\u001b[0;36m32\u001b[0m\u001b[0;34m,\u001b[0m \u001b[0mverbose\u001b[0m\u001b[0;34m=\u001b[0m\u001b[0;36m1\u001b[0m\u001b[0;34m,\u001b[0m \u001b[0msample_weight\u001b[0m\u001b[0;34m=\u001b[0m\u001b[0mNone\u001b[0m\u001b[0;34m)\u001b[0m\u001b[0;34m\u001b[0m\u001b[0m\n",
            "\u001b[0;31mNameError\u001b[0m: name 'train' is not defined"
          ]
        }
      ]
    },
    {
      "metadata": {
        "id": "czMJLiHGYSby",
        "colab_type": "code",
        "colab": {}
      },
      "cell_type": "code",
      "source": [
        ""
      ],
      "execution_count": 0,
      "outputs": []
    },
    {
      "metadata": {
        "id": "6UUdcgFMnY9O",
        "colab_type": "code",
        "colab": {}
      },
      "cell_type": "code",
      "source": [
        "e=Xtest.reshape(100,2048,2)\n",
        "print(e.shape)\n",
        "r=model.predict(e)"
      ],
      "execution_count": 0,
      "outputs": []
    },
    {
      "metadata": {
        "id": "ORewDLlGoO5E",
        "colab_type": "code",
        "outputId": "64f5badd-a83f-40bc-e121-c31211eb1477",
        "colab": {
          "base_uri": "https://localhost:8080/",
          "height": 34
        }
      },
      "cell_type": "code",
      "source": [
        "for i  in range(r.shape[0]):\n",
        "  for j in range(5):\n",
        "    r[i][j]\n",
        "print(r[1].shape)"
      ],
      "execution_count": 0,
      "outputs": [
        {
          "output_type": "stream",
          "text": [
            "(1, 5)\n"
          ],
          "name": "stdout"
        }
      ]
    },
    {
      "metadata": {
        "id": "d90ADaYmsxUC",
        "colab_type": "code",
        "colab": {}
      },
      "cell_type": "code",
      "source": [
        "e=tf.convert_to_tensor(e)\n"
      ],
      "execution_count": 0,
      "outputs": []
    },
    {
      "metadata": {
        "id": "-wsd9jBFr3vK",
        "colab_type": "code",
        "outputId": "7c51fe52-00dd-4e8e-b436-ec417b0b8fe3",
        "colab": {
          "base_uri": "https://localhost:8080/",
          "height": 163
        }
      },
      "cell_type": "code",
      "source": [
        "yp=model(e)"
      ],
      "execution_count": 0,
      "outputs": [
        {
          "output_type": "error",
          "ename": "NameError",
          "evalue": "ignored",
          "traceback": [
            "\u001b[0;31m\u001b[0m",
            "\u001b[0;31mNameError\u001b[0mTraceback (most recent call last)",
            "\u001b[0;32m<ipython-input-83-e3004b881261>\u001b[0m in \u001b[0;36m<module>\u001b[0;34m()\u001b[0m\n\u001b[0;32m----> 1\u001b[0;31m \u001b[0myp\u001b[0m\u001b[0;34m=\u001b[0m\u001b[0mmodel\u001b[0m\u001b[0;34m(\u001b[0m\u001b[0me\u001b[0m\u001b[0;34m)\u001b[0m\u001b[0;34m\u001b[0m\u001b[0m\n\u001b[0m",
            "\u001b[0;31mNameError\u001b[0m: name 'e' is not defined"
          ]
        }
      ]
    },
    {
      "metadata": {
        "id": "ZJk-iXY5seFO",
        "colab_type": "code",
        "outputId": "e1b86670-bce1-49b3-f39c-e6b2eab79e6c",
        "colab": {
          "base_uri": "https://localhost:8080/",
          "height": 180
        }
      },
      "cell_type": "code",
      "source": [
        "p=model.predict_classes(X_test,batch_size=32)\n",
        "p"
      ],
      "execution_count": 0,
      "outputs": [
        {
          "output_type": "error",
          "ename": "AttributeError",
          "evalue": "ignored",
          "traceback": [
            "\u001b[0;31m\u001b[0m",
            "\u001b[0;31mAttributeError\u001b[0mTraceback (most recent call last)",
            "\u001b[0;32m<ipython-input-84-bc7fbb1423ce>\u001b[0m in \u001b[0;36m<module>\u001b[0;34m()\u001b[0m\n\u001b[0;32m----> 1\u001b[0;31m \u001b[0mp\u001b[0m\u001b[0;34m=\u001b[0m\u001b[0mmodel\u001b[0m\u001b[0;34m.\u001b[0m\u001b[0mpredict_classes\u001b[0m\u001b[0;34m(\u001b[0m\u001b[0mX_test\u001b[0m\u001b[0;34m,\u001b[0m\u001b[0mbatch_size\u001b[0m\u001b[0;34m=\u001b[0m\u001b[0;36m32\u001b[0m\u001b[0;34m)\u001b[0m\u001b[0;34m\u001b[0m\u001b[0m\n\u001b[0m\u001b[1;32m      2\u001b[0m \u001b[0mp\u001b[0m\u001b[0;34m\u001b[0m\u001b[0m\n",
            "\u001b[0;31mAttributeError\u001b[0m: 'Model' object has no attribute 'predict_classes'"
          ]
        }
      ]
    },
    {
      "metadata": {
        "id": "QT3dFgWdgGTh",
        "colab_type": "code",
        "colab": {}
      },
      "cell_type": "code",
      "source": [
        ""
      ],
      "execution_count": 0,
      "outputs": []
    }
  ]
}