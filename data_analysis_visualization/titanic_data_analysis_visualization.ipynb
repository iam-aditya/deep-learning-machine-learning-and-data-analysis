{
 "cells": [
  {
   "cell_type": "code",
   "execution_count": 1,
   "metadata": {},
   "outputs": [],
   "source": [
    "import pandas as pd\n",
    "import numpy as np\n",
    "df=pd.read_csv(\"/home/aditya/Downloads/train.csv\")\n"
   ]
  },
  {
   "cell_type": "code",
   "execution_count": 2,
   "metadata": {},
   "outputs": [
    {
     "name": "stdout",
     "output_type": "stream",
     "text": [
      "<class 'pandas.core.frame.DataFrame'>\n",
      "<class 'pandas.core.series.Series'>\n"
     ]
    }
   ],
   "source": [
    "print(type(df[['Sex']]))\n",
    "print(type(df.Sex))"
   ]
  },
  {
   "cell_type": "code",
   "execution_count": 3,
   "metadata": {},
   "outputs": [
    {
     "data": {
      "text/plain": [
       "PassengerId                         3\n",
       "Survived                            1\n",
       "Pclass                              3\n",
       "Name           Heikkinen, Miss. Laina\n",
       "Sex                            female\n",
       "Age                                26\n",
       "SibSp                               0\n",
       "Parch                               0\n",
       "Ticket               STON/O2. 3101282\n",
       "Fare                            7.925\n",
       "Cabin                             NaN\n",
       "Embarked                            S\n",
       "Name: 2, dtype: object"
      ]
     },
     "execution_count": 3,
     "metadata": {},
     "output_type": "execute_result"
    }
   ],
   "source": [
    "df.iloc[2]"
   ]
  },
  {
   "cell_type": "code",
   "execution_count": 4,
   "metadata": {},
   "outputs": [
    {
     "data": {
      "text/plain": [
       "2    female\n",
       "Name: Sex, dtype: object"
      ]
     },
     "execution_count": 4,
     "metadata": {},
     "output_type": "execute_result"
    }
   ],
   "source": [
    "(df.Sex.iloc[[2]])\n"
   ]
  },
  {
   "cell_type": "code",
   "execution_count": 5,
   "metadata": {},
   "outputs": [
    {
     "data": {
      "text/plain": [
       "0      False\n",
       "1       True\n",
       "2       True\n",
       "3       True\n",
       "4      False\n",
       "5      False\n",
       "6      False\n",
       "7      False\n",
       "8       True\n",
       "9       True\n",
       "10      True\n",
       "11      True\n",
       "12     False\n",
       "13     False\n",
       "14     False\n",
       "15      True\n",
       "16     False\n",
       "17      True\n",
       "18     False\n",
       "19      True\n",
       "20     False\n",
       "21      True\n",
       "22      True\n",
       "23      True\n",
       "24     False\n",
       "25      True\n",
       "26     False\n",
       "27     False\n",
       "28      True\n",
       "29     False\n",
       "       ...  \n",
       "861    False\n",
       "862     True\n",
       "863    False\n",
       "864    False\n",
       "865     True\n",
       "866     True\n",
       "867    False\n",
       "868    False\n",
       "869     True\n",
       "870    False\n",
       "871     True\n",
       "872    False\n",
       "873    False\n",
       "874     True\n",
       "875     True\n",
       "876    False\n",
       "877    False\n",
       "878    False\n",
       "879     True\n",
       "880     True\n",
       "881    False\n",
       "882    False\n",
       "883    False\n",
       "884    False\n",
       "885    False\n",
       "886    False\n",
       "887     True\n",
       "888    False\n",
       "889     True\n",
       "890    False\n",
       "Name: Survived, Length: 891, dtype: bool"
      ]
     },
     "execution_count": 5,
     "metadata": {},
     "output_type": "execute_result"
    }
   ],
   "source": [
    "df['Survived']==1\n"
   ]
  },
  {
   "cell_type": "code",
   "execution_count": 6,
   "metadata": {},
   "outputs": [
    {
     "name": "stdout",
     "output_type": "stream",
     "text": [
      "687\n"
     ]
    },
    {
     "data": {
      "text/plain": [
       "481"
      ]
     },
     "execution_count": 6,
     "metadata": {},
     "output_type": "execute_result"
    }
   ],
   "source": [
    "print( len(  df[pd.isna(df['Cabin'])] )  )\n",
    "gh= df[pd.isna(df['Cabin'])]\n",
    "gh=gh[gh.Survived==0 ]\n",
    "len(gh)"
   ]
  },
  {
   "cell_type": "code",
   "execution_count": 7,
   "metadata": {},
   "outputs": [
    {
     "data": {
      "text/plain": [
       "481"
      ]
     },
     "execution_count": 7,
     "metadata": {},
     "output_type": "execute_result"
    }
   ],
   "source": [
    "gh= df[     (df.Survived==0 ) & (pd.isna(df.Cabin)) ] \n",
    "len(gh)"
   ]
  },
  {
   "cell_type": "code",
   "execution_count": 8,
   "metadata": {},
   "outputs": [
    {
     "name": "stdout",
     "output_type": "stream",
     "text": [
      "     PassengerId  Survived  Pclass  \\\n",
      "0              1         0       3   \n",
      "1              2         1       1   \n",
      "2              3         1       3   \n",
      "3              4         1       1   \n",
      "4              5         0       3   \n",
      "5              6         0       3   \n",
      "6              7         0       1   \n",
      "7              8         0       3   \n",
      "8              9         1       3   \n",
      "9             10         1       2   \n",
      "10            11         1       3   \n",
      "11            12         1       1   \n",
      "12            13         0       3   \n",
      "13            14         0       3   \n",
      "14            15         0       3   \n",
      "15            16         1       2   \n",
      "16            17         0       3   \n",
      "17            18         1       2   \n",
      "18            19         0       3   \n",
      "19            20         1       3   \n",
      "20            21         0       2   \n",
      "21            22         1       2   \n",
      "22            23         1       3   \n",
      "23            24         1       1   \n",
      "24            25         0       3   \n",
      "25            26         1       3   \n",
      "26            27         0       3   \n",
      "27            28         0       1   \n",
      "28            29         1       3   \n",
      "29            30         0       3   \n",
      "..           ...       ...     ...   \n",
      "861          862         0       2   \n",
      "862          863         1       1   \n",
      "863          864         0       3   \n",
      "864          865         0       2   \n",
      "865          866         1       2   \n",
      "866          867         1       2   \n",
      "867          868         0       1   \n",
      "868          869         0       3   \n",
      "869          870         1       3   \n",
      "870          871         0       3   \n",
      "871          872         1       1   \n",
      "872          873         0       1   \n",
      "873          874         0       3   \n",
      "874          875         1       2   \n",
      "875          876         1       3   \n",
      "876          877         0       3   \n",
      "877          878         0       3   \n",
      "878          879         0       3   \n",
      "879          880         1       1   \n",
      "880          881         1       2   \n",
      "881          882         0       3   \n",
      "882          883         0       3   \n",
      "883          884         0       2   \n",
      "884          885         0       3   \n",
      "885          886         0       3   \n",
      "886          887         0       2   \n",
      "887          888         1       1   \n",
      "888          889         0       3   \n",
      "889          890         1       1   \n",
      "890          891         0       3   \n",
      "\n",
      "                                                  Name     Sex   Age  SibSp  \\\n",
      "0                              Braund, Mr. Owen Harris    male  22.0      1   \n",
      "1    Cumings, Mrs. John Bradley (Florence Briggs Th...  female  38.0      1   \n",
      "2                               Heikkinen, Miss. Laina  female  26.0      0   \n",
      "3         Futrelle, Mrs. Jacques Heath (Lily May Peel)  female  35.0      1   \n",
      "4                             Allen, Mr. William Henry    male  35.0      0   \n",
      "5                                     Moran, Mr. James    male   NaN      0   \n",
      "6                              McCarthy, Mr. Timothy J    male  54.0      0   \n",
      "7                       Palsson, Master. Gosta Leonard    male   2.0      3   \n",
      "8    Johnson, Mrs. Oscar W (Elisabeth Vilhelmina Berg)  female  27.0      0   \n",
      "9                  Nasser, Mrs. Nicholas (Adele Achem)  female  14.0      1   \n",
      "10                     Sandstrom, Miss. Marguerite Rut  female   4.0      1   \n",
      "11                            Bonnell, Miss. Elizabeth  female  58.0      0   \n",
      "12                      Saundercock, Mr. William Henry    male  20.0      0   \n",
      "13                         Andersson, Mr. Anders Johan    male  39.0      1   \n",
      "14                Vestrom, Miss. Hulda Amanda Adolfina  female  14.0      0   \n",
      "15                    Hewlett, Mrs. (Mary D Kingcome)   female  55.0      0   \n",
      "16                                Rice, Master. Eugene    male   2.0      4   \n",
      "17                        Williams, Mr. Charles Eugene    male   NaN      0   \n",
      "18   Vander Planke, Mrs. Julius (Emelia Maria Vande...  female  31.0      1   \n",
      "19                             Masselmani, Mrs. Fatima  female   NaN      0   \n",
      "20                                Fynney, Mr. Joseph J    male  35.0      0   \n",
      "21                               Beesley, Mr. Lawrence    male  34.0      0   \n",
      "22                         McGowan, Miss. Anna \"Annie\"  female  15.0      0   \n",
      "23                        Sloper, Mr. William Thompson    male  28.0      0   \n",
      "24                       Palsson, Miss. Torborg Danira  female   8.0      3   \n",
      "25   Asplund, Mrs. Carl Oscar (Selma Augusta Emilia...  female  38.0      1   \n",
      "26                             Emir, Mr. Farred Chehab    male   NaN      0   \n",
      "27                      Fortune, Mr. Charles Alexander    male  19.0      3   \n",
      "28                       O'Dwyer, Miss. Ellen \"Nellie\"  female   NaN      0   \n",
      "29                                 Todoroff, Mr. Lalio    male   NaN      0   \n",
      "..                                                 ...     ...   ...    ...   \n",
      "861                        Giles, Mr. Frederick Edward    male  21.0      1   \n",
      "862  Swift, Mrs. Frederick Joel (Margaret Welles Ba...  female  48.0      0   \n",
      "863                  Sage, Miss. Dorothy Edith \"Dolly\"  female   NaN      8   \n",
      "864                             Gill, Mr. John William    male  24.0      0   \n",
      "865                           Bystrom, Mrs. (Karolina)  female  42.0      0   \n",
      "866                       Duran y More, Miss. Asuncion  female  27.0      1   \n",
      "867               Roebling, Mr. Washington Augustus II    male  31.0      0   \n",
      "868                        van Melkebeke, Mr. Philemon    male   NaN      0   \n",
      "869                    Johnson, Master. Harold Theodor    male   4.0      1   \n",
      "870                                  Balkic, Mr. Cerin    male  26.0      0   \n",
      "871   Beckwith, Mrs. Richard Leonard (Sallie Monypeny)  female  47.0      1   \n",
      "872                           Carlsson, Mr. Frans Olof    male  33.0      0   \n",
      "873                        Vander Cruyssen, Mr. Victor    male  47.0      0   \n",
      "874              Abelson, Mrs. Samuel (Hannah Wizosky)  female  28.0      1   \n",
      "875                   Najib, Miss. Adele Kiamie \"Jane\"  female  15.0      0   \n",
      "876                      Gustafsson, Mr. Alfred Ossian    male  20.0      0   \n",
      "877                               Petroff, Mr. Nedelio    male  19.0      0   \n",
      "878                                 Laleff, Mr. Kristo    male   NaN      0   \n",
      "879      Potter, Mrs. Thomas Jr (Lily Alexenia Wilson)  female  56.0      0   \n",
      "880       Shelley, Mrs. William (Imanita Parrish Hall)  female  25.0      0   \n",
      "881                                 Markun, Mr. Johann    male  33.0      0   \n",
      "882                       Dahlberg, Miss. Gerda Ulrika  female  22.0      0   \n",
      "883                      Banfield, Mr. Frederick James    male  28.0      0   \n",
      "884                             Sutehall, Mr. Henry Jr    male  25.0      0   \n",
      "885               Rice, Mrs. William (Margaret Norton)  female  39.0      0   \n",
      "886                              Montvila, Rev. Juozas    male  27.0      0   \n",
      "887                       Graham, Miss. Margaret Edith  female  19.0      0   \n",
      "888           Johnston, Miss. Catherine Helen \"Carrie\"  female   NaN      1   \n",
      "889                              Behr, Mr. Karl Howell    male  26.0      0   \n",
      "890                                Dooley, Mr. Patrick    male  32.0      0   \n",
      "\n",
      "     Parch            Ticket      Fare        Cabin Embarked  \n",
      "0        0         A/5 21171    7.2500            0        S  \n",
      "1        0          PC 17599   71.2833          C85        C  \n",
      "2        0  STON/O2. 3101282    7.9250            0        S  \n",
      "3        0            113803   53.1000         C123        S  \n",
      "4        0            373450    8.0500            0        S  \n",
      "5        0            330877    8.4583            0        Q  \n",
      "6        0             17463   51.8625          E46        S  \n",
      "7        1            349909   21.0750            0        S  \n",
      "8        2            347742   11.1333            0        S  \n",
      "9        0            237736   30.0708            0        C  \n",
      "10       1           PP 9549   16.7000           G6        S  \n",
      "11       0            113783   26.5500         C103        S  \n",
      "12       0         A/5. 2151    8.0500            0        S  \n",
      "13       5            347082   31.2750            0        S  \n",
      "14       0            350406    7.8542            0        S  \n",
      "15       0            248706   16.0000            0        S  \n",
      "16       1            382652   29.1250            0        Q  \n",
      "17       0            244373   13.0000            0        S  \n",
      "18       0            345763   18.0000            0        S  \n",
      "19       0              2649    7.2250            0        C  \n",
      "20       0            239865   26.0000            0        S  \n",
      "21       0            248698   13.0000          D56        S  \n",
      "22       0            330923    8.0292            0        Q  \n",
      "23       0            113788   35.5000           A6        S  \n",
      "24       1            349909   21.0750            0        S  \n",
      "25       5            347077   31.3875            0        S  \n",
      "26       0              2631    7.2250            0        C  \n",
      "27       2             19950  263.0000  C23 C25 C27        S  \n",
      "28       0            330959    7.8792            0        Q  \n",
      "29       0            349216    7.8958            0        S  \n",
      "..     ...               ...       ...          ...      ...  \n",
      "861      0             28134   11.5000            0        S  \n",
      "862      0             17466   25.9292          D17        S  \n",
      "863      2          CA. 2343   69.5500            0        S  \n",
      "864      0            233866   13.0000            0        S  \n",
      "865      0            236852   13.0000            0        S  \n",
      "866      0     SC/PARIS 2149   13.8583            0        C  \n",
      "867      0          PC 17590   50.4958          A24        S  \n",
      "868      0            345777    9.5000            0        S  \n",
      "869      1            347742   11.1333            0        S  \n",
      "870      0            349248    7.8958            0        S  \n",
      "871      1             11751   52.5542          D35        S  \n",
      "872      0               695    5.0000  B51 B53 B55        S  \n",
      "873      0            345765    9.0000            0        S  \n",
      "874      0         P/PP 3381   24.0000            0        C  \n",
      "875      0              2667    7.2250            0        C  \n",
      "876      0              7534    9.8458            0        S  \n",
      "877      0            349212    7.8958            0        S  \n",
      "878      0            349217    7.8958            0        S  \n",
      "879      1             11767   83.1583          C50        C  \n",
      "880      1            230433   26.0000            0        S  \n",
      "881      0            349257    7.8958            0        S  \n",
      "882      0              7552   10.5167            0        S  \n",
      "883      0  C.A./SOTON 34068   10.5000            0        S  \n",
      "884      0   SOTON/OQ 392076    7.0500            0        S  \n",
      "885      5            382652   29.1250            0        Q  \n",
      "886      0            211536   13.0000            0        S  \n",
      "887      0            112053   30.0000          B42        S  \n",
      "888      2        W./C. 6607   23.4500            0        S  \n",
      "889      0            111369   30.0000         C148        C  \n",
      "890      0            370376    7.7500            0        Q  \n",
      "\n",
      "[891 rows x 12 columns]\n"
     ]
    }
   ],
   "source": [
    "df['Cabin']=df['Cabin'].fillna(0)\n",
    "print(df)"
   ]
  },
  {
   "cell_type": "code",
   "execution_count": 9,
   "metadata": {},
   "outputs": [],
   "source": [
    "def change(exp):#cabinf\n",
    "    if type(exp)== str:\n",
    "        return 1\n",
    "    else:\n",
    "        return 0\n",
    "df['Cabin'] = df['Cabin'].apply(change)\n"
   ]
  },
  {
   "cell_type": "code",
   "execution_count": 10,
   "metadata": {},
   "outputs": [],
   "source": [
    "def genint(exp):#genf\n",
    "    if exp=='male':\n",
    "        return 0\n",
    "    else:\n",
    "        return 1\n",
    "df['Sex']=   df['Sex'].apply(genint)"
   ]
  },
  {
   "cell_type": "code",
   "execution_count": 11,
   "metadata": {},
   "outputs": [
    {
     "name": "stdout",
     "output_type": "stream",
     "text": [
      "     PassengerId  Survived  Pclass  \\\n",
      "0              1         0       3   \n",
      "1              2         1       1   \n",
      "2              3         1       3   \n",
      "3              4         1       1   \n",
      "4              5         0       3   \n",
      "5              6         0       3   \n",
      "6              7         0       1   \n",
      "7              8         0       3   \n",
      "8              9         1       3   \n",
      "9             10         1       2   \n",
      "10            11         1       3   \n",
      "11            12         1       1   \n",
      "12            13         0       3   \n",
      "13            14         0       3   \n",
      "14            15         0       3   \n",
      "15            16         1       2   \n",
      "16            17         0       3   \n",
      "17            18         1       2   \n",
      "18            19         0       3   \n",
      "19            20         1       3   \n",
      "20            21         0       2   \n",
      "21            22         1       2   \n",
      "22            23         1       3   \n",
      "23            24         1       1   \n",
      "24            25         0       3   \n",
      "25            26         1       3   \n",
      "26            27         0       3   \n",
      "27            28         0       1   \n",
      "28            29         1       3   \n",
      "29            30         0       3   \n",
      "..           ...       ...     ...   \n",
      "861          862         0       2   \n",
      "862          863         1       1   \n",
      "863          864         0       3   \n",
      "864          865         0       2   \n",
      "865          866         1       2   \n",
      "866          867         1       2   \n",
      "867          868         0       1   \n",
      "868          869         0       3   \n",
      "869          870         1       3   \n",
      "870          871         0       3   \n",
      "871          872         1       1   \n",
      "872          873         0       1   \n",
      "873          874         0       3   \n",
      "874          875         1       2   \n",
      "875          876         1       3   \n",
      "876          877         0       3   \n",
      "877          878         0       3   \n",
      "878          879         0       3   \n",
      "879          880         1       1   \n",
      "880          881         1       2   \n",
      "881          882         0       3   \n",
      "882          883         0       3   \n",
      "883          884         0       2   \n",
      "884          885         0       3   \n",
      "885          886         0       3   \n",
      "886          887         0       2   \n",
      "887          888         1       1   \n",
      "888          889         0       3   \n",
      "889          890         1       1   \n",
      "890          891         0       3   \n",
      "\n",
      "                                                  Name  Sex   Age  SibSp  \\\n",
      "0                              Braund, Mr. Owen Harris    0  22.0      1   \n",
      "1    Cumings, Mrs. John Bradley (Florence Briggs Th...    1  38.0      1   \n",
      "2                               Heikkinen, Miss. Laina    1  26.0      0   \n",
      "3         Futrelle, Mrs. Jacques Heath (Lily May Peel)    1  35.0      1   \n",
      "4                             Allen, Mr. William Henry    0  35.0      0   \n",
      "5                                     Moran, Mr. James    0   NaN      0   \n",
      "6                              McCarthy, Mr. Timothy J    0  54.0      0   \n",
      "7                       Palsson, Master. Gosta Leonard    0   2.0      3   \n",
      "8    Johnson, Mrs. Oscar W (Elisabeth Vilhelmina Berg)    1  27.0      0   \n",
      "9                  Nasser, Mrs. Nicholas (Adele Achem)    1  14.0      1   \n",
      "10                     Sandstrom, Miss. Marguerite Rut    1   4.0      1   \n",
      "11                            Bonnell, Miss. Elizabeth    1  58.0      0   \n",
      "12                      Saundercock, Mr. William Henry    0  20.0      0   \n",
      "13                         Andersson, Mr. Anders Johan    0  39.0      1   \n",
      "14                Vestrom, Miss. Hulda Amanda Adolfina    1  14.0      0   \n",
      "15                    Hewlett, Mrs. (Mary D Kingcome)     1  55.0      0   \n",
      "16                                Rice, Master. Eugene    0   2.0      4   \n",
      "17                        Williams, Mr. Charles Eugene    0   NaN      0   \n",
      "18   Vander Planke, Mrs. Julius (Emelia Maria Vande...    1  31.0      1   \n",
      "19                             Masselmani, Mrs. Fatima    1   NaN      0   \n",
      "20                                Fynney, Mr. Joseph J    0  35.0      0   \n",
      "21                               Beesley, Mr. Lawrence    0  34.0      0   \n",
      "22                         McGowan, Miss. Anna \"Annie\"    1  15.0      0   \n",
      "23                        Sloper, Mr. William Thompson    0  28.0      0   \n",
      "24                       Palsson, Miss. Torborg Danira    1   8.0      3   \n",
      "25   Asplund, Mrs. Carl Oscar (Selma Augusta Emilia...    1  38.0      1   \n",
      "26                             Emir, Mr. Farred Chehab    0   NaN      0   \n",
      "27                      Fortune, Mr. Charles Alexander    0  19.0      3   \n",
      "28                       O'Dwyer, Miss. Ellen \"Nellie\"    1   NaN      0   \n",
      "29                                 Todoroff, Mr. Lalio    0   NaN      0   \n",
      "..                                                 ...  ...   ...    ...   \n",
      "861                        Giles, Mr. Frederick Edward    0  21.0      1   \n",
      "862  Swift, Mrs. Frederick Joel (Margaret Welles Ba...    1  48.0      0   \n",
      "863                  Sage, Miss. Dorothy Edith \"Dolly\"    1   NaN      8   \n",
      "864                             Gill, Mr. John William    0  24.0      0   \n",
      "865                           Bystrom, Mrs. (Karolina)    1  42.0      0   \n",
      "866                       Duran y More, Miss. Asuncion    1  27.0      1   \n",
      "867               Roebling, Mr. Washington Augustus II    0  31.0      0   \n",
      "868                        van Melkebeke, Mr. Philemon    0   NaN      0   \n",
      "869                    Johnson, Master. Harold Theodor    0   4.0      1   \n",
      "870                                  Balkic, Mr. Cerin    0  26.0      0   \n",
      "871   Beckwith, Mrs. Richard Leonard (Sallie Monypeny)    1  47.0      1   \n",
      "872                           Carlsson, Mr. Frans Olof    0  33.0      0   \n",
      "873                        Vander Cruyssen, Mr. Victor    0  47.0      0   \n",
      "874              Abelson, Mrs. Samuel (Hannah Wizosky)    1  28.0      1   \n",
      "875                   Najib, Miss. Adele Kiamie \"Jane\"    1  15.0      0   \n",
      "876                      Gustafsson, Mr. Alfred Ossian    0  20.0      0   \n",
      "877                               Petroff, Mr. Nedelio    0  19.0      0   \n",
      "878                                 Laleff, Mr. Kristo    0   NaN      0   \n",
      "879      Potter, Mrs. Thomas Jr (Lily Alexenia Wilson)    1  56.0      0   \n",
      "880       Shelley, Mrs. William (Imanita Parrish Hall)    1  25.0      0   \n",
      "881                                 Markun, Mr. Johann    0  33.0      0   \n",
      "882                       Dahlberg, Miss. Gerda Ulrika    1  22.0      0   \n",
      "883                      Banfield, Mr. Frederick James    0  28.0      0   \n",
      "884                             Sutehall, Mr. Henry Jr    0  25.0      0   \n",
      "885               Rice, Mrs. William (Margaret Norton)    1  39.0      0   \n",
      "886                              Montvila, Rev. Juozas    0  27.0      0   \n",
      "887                       Graham, Miss. Margaret Edith    1  19.0      0   \n",
      "888           Johnston, Miss. Catherine Helen \"Carrie\"    1   NaN      1   \n",
      "889                              Behr, Mr. Karl Howell    0  26.0      0   \n",
      "890                                Dooley, Mr. Patrick    0  32.0      0   \n",
      "\n",
      "     Parch            Ticket      Fare  Cabin Embarked  \n",
      "0        0         A/5 21171    7.2500      0        S  \n",
      "1        0          PC 17599   71.2833      1        C  \n",
      "2        0  STON/O2. 3101282    7.9250      0        S  \n",
      "3        0            113803   53.1000      1        S  \n",
      "4        0            373450    8.0500      0        S  \n",
      "5        0            330877    8.4583      0        Q  \n",
      "6        0             17463   51.8625      1        S  \n",
      "7        1            349909   21.0750      0        S  \n",
      "8        2            347742   11.1333      0        S  \n",
      "9        0            237736   30.0708      0        C  \n",
      "10       1           PP 9549   16.7000      1        S  \n",
      "11       0            113783   26.5500      1        S  \n",
      "12       0         A/5. 2151    8.0500      0        S  \n",
      "13       5            347082   31.2750      0        S  \n",
      "14       0            350406    7.8542      0        S  \n",
      "15       0            248706   16.0000      0        S  \n",
      "16       1            382652   29.1250      0        Q  \n",
      "17       0            244373   13.0000      0        S  \n",
      "18       0            345763   18.0000      0        S  \n",
      "19       0              2649    7.2250      0        C  \n",
      "20       0            239865   26.0000      0        S  \n",
      "21       0            248698   13.0000      1        S  \n",
      "22       0            330923    8.0292      0        Q  \n",
      "23       0            113788   35.5000      1        S  \n",
      "24       1            349909   21.0750      0        S  \n",
      "25       5            347077   31.3875      0        S  \n",
      "26       0              2631    7.2250      0        C  \n",
      "27       2             19950  263.0000      1        S  \n",
      "28       0            330959    7.8792      0        Q  \n",
      "29       0            349216    7.8958      0        S  \n",
      "..     ...               ...       ...    ...      ...  \n",
      "861      0             28134   11.5000      0        S  \n",
      "862      0             17466   25.9292      1        S  \n",
      "863      2          CA. 2343   69.5500      0        S  \n",
      "864      0            233866   13.0000      0        S  \n",
      "865      0            236852   13.0000      0        S  \n",
      "866      0     SC/PARIS 2149   13.8583      0        C  \n",
      "867      0          PC 17590   50.4958      1        S  \n",
      "868      0            345777    9.5000      0        S  \n",
      "869      1            347742   11.1333      0        S  \n",
      "870      0            349248    7.8958      0        S  \n",
      "871      1             11751   52.5542      1        S  \n",
      "872      0               695    5.0000      1        S  \n",
      "873      0            345765    9.0000      0        S  \n",
      "874      0         P/PP 3381   24.0000      0        C  \n",
      "875      0              2667    7.2250      0        C  \n",
      "876      0              7534    9.8458      0        S  \n",
      "877      0            349212    7.8958      0        S  \n",
      "878      0            349217    7.8958      0        S  \n",
      "879      1             11767   83.1583      1        C  \n",
      "880      1            230433   26.0000      0        S  \n",
      "881      0            349257    7.8958      0        S  \n",
      "882      0              7552   10.5167      0        S  \n",
      "883      0  C.A./SOTON 34068   10.5000      0        S  \n",
      "884      0   SOTON/OQ 392076    7.0500      0        S  \n",
      "885      5            382652   29.1250      0        Q  \n",
      "886      0            211536   13.0000      0        S  \n",
      "887      0            112053   30.0000      1        S  \n",
      "888      2        W./C. 6607   23.4500      0        S  \n",
      "889      0            111369   30.0000      1        C  \n",
      "890      0            370376    7.7500      0        Q  \n",
      "\n",
      "[891 rows x 12 columns]\n"
     ]
    }
   ],
   "source": [
    "print(df)"
   ]
  },
  {
   "cell_type": "code",
   "execution_count": 12,
   "metadata": {},
   "outputs": [
    {
     "data": {
      "text/plain": [
       "177"
      ]
     },
     "execution_count": 12,
     "metadata": {},
     "output_type": "execute_result"
    }
   ],
   "source": [
    "nosur=df[ (pd.isna(df.Age)) ]\n",
    "len(nosur)"
   ]
  },
  {
   "cell_type": "code",
   "execution_count": 13,
   "metadata": {},
   "outputs": [
    {
     "data": {
      "text/plain": [
       "125"
      ]
     },
     "execution_count": 13,
     "metadata": {},
     "output_type": "execute_result"
    }
   ],
   "source": [
    "noag =   df[ ( df.Survived==0) & (pd.isna(df.Age)) ] \n",
    "len(noag)"
   ]
  },
  {
   "cell_type": "code",
   "execution_count": 14,
   "metadata": {},
   "outputs": [
    {
     "name": "stdout",
     "output_type": "stream",
     "text": [
      "216 184 491\n",
      "136\n"
     ]
    }
   ],
   "source": [
    "print(len(df[df.Pclass==1]),len(df[df.Pclass==2]),len(df[df.Pclass==3]) )\n",
    "print(len (  df[       (df.Pclass==3) &  ( pd.isna(df.Age) )    ]    ))\n",
    "\n"
   ]
  },
  {
   "cell_type": "code",
   "execution_count": 15,
   "metadata": {},
   "outputs": [
    {
     "name": "stdout",
     "output_type": "stream",
     "text": [
      "30.62617924528302\n"
     ]
    }
   ],
   "source": [
    "gh=df[   (df.Survived==0) & ( ~ (pd.isna(df.Age))  )         ]\n",
    "print(gh.mean(axis=0)['Age'])"
   ]
  },
  {
   "cell_type": "code",
   "execution_count": 16,
   "metadata": {},
   "outputs": [],
   "source": [
    "df['Age']=df['Age'].fillna(30)#age"
   ]
  },
  {
   "cell_type": "code",
   "execution_count": 17,
   "metadata": {},
   "outputs": [
    {
     "name": "stdout",
     "output_type": "stream",
     "text": [
      "216\n",
      "80\n"
     ]
    }
   ],
   "source": [
    "print(len(  df[ (df.Pclass==1)]))\n",
    "print(len(  df[ (df.Pclass==1) & (df.Survived==0)       ]       )        )"
   ]
  },
  {
   "cell_type": "code",
   "execution_count": 18,
   "metadata": {},
   "outputs": [
    {
     "name": "stdout",
     "output_type": "stream",
     "text": [
      "32.204207968574636\n",
      "211\n",
      "85\n"
     ]
    }
   ],
   "source": [
    "print(df.mean(axis=0)['Fare']      )\n",
    "print( len(df[ (df.Fare > 32.2)  ]  )) \n",
    "print( len(df[ (df.Fare> 32.2)    &  (df.Survived==0)  ])  )\n"
   ]
  },
  {
   "cell_type": "code",
   "execution_count": 19,
   "metadata": {},
   "outputs": [
    {
     "name": "stdout",
     "output_type": "stream",
     "text": [
      "     Survived  Pclass  Sex   Age  SibSp  Parch      Fare  Cabin\n",
      "0           0       3    0  22.0      1      0    7.2500      0\n",
      "1           1       1    1  38.0      1      0   71.2833      1\n",
      "2           1       3    1  26.0      0      0    7.9250      0\n",
      "3           1       1    1  35.0      1      0   53.1000      1\n",
      "4           0       3    0  35.0      0      0    8.0500      0\n",
      "5           0       3    0  30.0      0      0    8.4583      0\n",
      "6           0       1    0  54.0      0      0   51.8625      1\n",
      "7           0       3    0   2.0      3      1   21.0750      0\n",
      "8           1       3    1  27.0      0      2   11.1333      0\n",
      "9           1       2    1  14.0      1      0   30.0708      0\n",
      "10          1       3    1   4.0      1      1   16.7000      1\n",
      "11          1       1    1  58.0      0      0   26.5500      1\n",
      "12          0       3    0  20.0      0      0    8.0500      0\n",
      "13          0       3    0  39.0      1      5   31.2750      0\n",
      "14          0       3    1  14.0      0      0    7.8542      0\n",
      "15          1       2    1  55.0      0      0   16.0000      0\n",
      "16          0       3    0   2.0      4      1   29.1250      0\n",
      "17          1       2    0  30.0      0      0   13.0000      0\n",
      "18          0       3    1  31.0      1      0   18.0000      0\n",
      "19          1       3    1  30.0      0      0    7.2250      0\n",
      "20          0       2    0  35.0      0      0   26.0000      0\n",
      "21          1       2    0  34.0      0      0   13.0000      1\n",
      "22          1       3    1  15.0      0      0    8.0292      0\n",
      "23          1       1    0  28.0      0      0   35.5000      1\n",
      "24          0       3    1   8.0      3      1   21.0750      0\n",
      "25          1       3    1  38.0      1      5   31.3875      0\n",
      "26          0       3    0  30.0      0      0    7.2250      0\n",
      "27          0       1    0  19.0      3      2  263.0000      1\n",
      "28          1       3    1  30.0      0      0    7.8792      0\n",
      "29          0       3    0  30.0      0      0    7.8958      0\n",
      "..        ...     ...  ...   ...    ...    ...       ...    ...\n",
      "861         0       2    0  21.0      1      0   11.5000      0\n",
      "862         1       1    1  48.0      0      0   25.9292      1\n",
      "863         0       3    1  30.0      8      2   69.5500      0\n",
      "864         0       2    0  24.0      0      0   13.0000      0\n",
      "865         1       2    1  42.0      0      0   13.0000      0\n",
      "866         1       2    1  27.0      1      0   13.8583      0\n",
      "867         0       1    0  31.0      0      0   50.4958      1\n",
      "868         0       3    0  30.0      0      0    9.5000      0\n",
      "869         1       3    0   4.0      1      1   11.1333      0\n",
      "870         0       3    0  26.0      0      0    7.8958      0\n",
      "871         1       1    1  47.0      1      1   52.5542      1\n",
      "872         0       1    0  33.0      0      0    5.0000      1\n",
      "873         0       3    0  47.0      0      0    9.0000      0\n",
      "874         1       2    1  28.0      1      0   24.0000      0\n",
      "875         1       3    1  15.0      0      0    7.2250      0\n",
      "876         0       3    0  20.0      0      0    9.8458      0\n",
      "877         0       3    0  19.0      0      0    7.8958      0\n",
      "878         0       3    0  30.0      0      0    7.8958      0\n",
      "879         1       1    1  56.0      0      1   83.1583      1\n",
      "880         1       2    1  25.0      0      1   26.0000      0\n",
      "881         0       3    0  33.0      0      0    7.8958      0\n",
      "882         0       3    1  22.0      0      0   10.5167      0\n",
      "883         0       2    0  28.0      0      0   10.5000      0\n",
      "884         0       3    0  25.0      0      0    7.0500      0\n",
      "885         0       3    1  39.0      0      5   29.1250      0\n",
      "886         0       2    0  27.0      0      0   13.0000      0\n",
      "887         1       1    1  19.0      0      0   30.0000      1\n",
      "888         0       3    1  30.0      1      2   23.4500      0\n",
      "889         1       1    0  26.0      0      0   30.0000      1\n",
      "890         0       3    0  32.0      0      0    7.7500      0\n",
      "\n",
      "[891 rows x 8 columns]\n"
     ]
    }
   ],
   "source": [
    "df.drop(['PassengerId'],axis=1,inplace=True)\n",
    "df.drop(['Ticket'],axis=1,inplace=True)\n",
    "df.drop(['Name'],axis=1,inplace=True)\n",
    "df.drop(['Embarked'],axis=1,inplace=True)\n",
    "print(df)"
   ]
  },
  {
   "cell_type": "code",
   "execution_count": 20,
   "metadata": {},
   "outputs": [],
   "source": [
    "y=df['Survived'].values\n",
    "df.drop(['Survived'],axis=1,inplace=True)"
   ]
  },
  {
   "cell_type": "code",
   "execution_count": 21,
   "metadata": {},
   "outputs": [],
   "source": [
    "x=df.values"
   ]
  },
  {
   "cell_type": "code",
   "execution_count": 22,
   "metadata": {},
   "outputs": [],
   "source": [
    "x=x.T\n",
    "y=y.T"
   ]
  },
  {
   "cell_type": "code",
   "execution_count": 23,
   "metadata": {},
   "outputs": [],
   "source": [
    "def initpara(o,i):                      #i-previous layer size,o-next layer size\n",
    "    w=np.random.randn(o,i) * np.sqrt(2/i)     #He initialization\n",
    "    b=np.zeros([o,1])\n",
    "    return w,b\n",
    "    "
   ]
  },
  {
   "cell_type": "code",
   "execution_count": 24,
   "metadata": {},
   "outputs": [],
   "source": [
    "def act(z,activ):\n",
    "    if(activ=='sigmoid'):\n",
    "        return 1/(1+np.exp(-z))\n",
    "    if(activ=='relu'):\n",
    "        z[z<0]=0\n",
    "        return z"
   ]
  },
  {
   "cell_type": "code",
   "execution_count": 25,
   "metadata": {},
   "outputs": [],
   "source": [
    "def forward_prop(allpara,x,lay,y,lambd):\n",
    "    #allpara=dict containing all the parameters\n",
    "    #x=first input\n",
    "    #lay=list of no of nodes present in subsequent layers\n",
    "    m=x.shape[1]\n",
    "    n=len(lay)#no of layers\n",
    "    cac={'a0':x}\n",
    "    for  i in range(n):\n",
    "        \n",
    "        w=allpara[\"w\"+str(i+1)]\n",
    "        b=allpara['b'+str(i+1)]\n",
    "        #print(\"w   \" ,w.shape,\"     b \",b.shape,b,\"       x \" ,x.shape)\n",
    "        z=np.dot(w,x)+b\n",
    "        cac['z'+str(i+1)]=z\n",
    "        if i<n-1:\n",
    "            a=act(z,'relu')\n",
    "        else:\n",
    "            a=act(z,'sigmoid')\n",
    "        cac['a'+str(i+1)]=a\n",
    "        x=a\n",
    "    x=x.reshape(m)\n",
    "    #print(\"x\",x,\"   y\",y)\n",
    "    logp= -1/m * ( y * np.log(x) + (1-y)*np.log(1-x) ) \n",
    "    l2_reg=0\n",
    "    for i in range(n):\n",
    "        l2_reg= l2_reg + lambd/(2 * m) * np.sum(np.square(allpara['w'+str(i+1)]))     #l2 regularization\n",
    "    logp = logp + l2_reg\n",
    "    \n",
    "    cost=np.sum(logp)\n",
    "    #print(\"cost \",cost)\n",
    "    \n",
    "    return x,cost,cac"
   ]
  },
  {
   "cell_type": "code",
   "execution_count": 26,
   "metadata": {},
   "outputs": [],
   "source": [
    "def der(z):\n",
    "    z[z>0]=1\n",
    "    z[z<0]=0\n",
    "    return z"
   ]
  },
  {
   "cell_type": "code",
   "execution_count": 27,
   "metadata": {},
   "outputs": [],
   "source": [
    "def backward_prop(cac,learnrate,allpara,y,lenlay,lambd):\n",
    "    m=len(y)\n",
    "    n=lenlay\n",
    "    grad={}\n",
    "    grad['dz'+str(n)]=cac['a'+str(n)]-y\n",
    "    grad['dw'+str(n)]= 1/m *np.dot(grad['dz'+str(n)],cac['a'+str(n-1)].T) + lambd/ m * allpara['w'+str(n)]\n",
    "    grad['db'+str(n)]= 1/m * np.sum( grad['dz'+str(n)],axis=1 ,keepdims=True)\n",
    "    for i in range(1,n):\n",
    "        j=n-i\n",
    "        grad['da'+str(j)]=  np.dot(allpara['w'+str(j+1)].T,grad['dz'+str(j+1)])\n",
    "        grad['dz'+str(j)]=   grad['da'+str(j)]  *  der(cac['z'+str(j)])\n",
    "        grad['dw'+str(j)]=  1/m * np.dot( grad['dz'+str(j)] , cac['a'+str(j-1)].T ) + (lambd/ m )* allpara['w'+str(j)]\n",
    "        grad['db'+str(j)]=  1/m * np.sum( grad['dz'+str(j)],axis=1,keepdims=True )\n",
    "    return grad\n",
    "    "
   ]
  },
  {
   "cell_type": "code",
   "execution_count": 28,
   "metadata": {},
   "outputs": [],
   "source": [
    "def updatepara(grad,allpara,learnrate,lenlay):\n",
    "    for i in range(lenlay):\n",
    "        j=lenlay-i\n",
    "        allpara['w'+str(j)]=allpara['w'+str(j)] - learnrate*grad['dw'+str(j)]\n",
    "        allpara['b'+str(j)]=allpara['b'+str(j)] - learnrate*grad['db'+str(j)]\n",
    "        \n",
    "    return allpara\n",
    "    "
   ]
  },
  {
   "cell_type": "code",
   "execution_count": 29,
   "metadata": {},
   "outputs": [],
   "source": [
    "def train(x,y,lay,learnrate,it,lambd):\n",
    "    ipl=x.shape[0]\n",
    "    lenlay=len(lay)\n",
    "    allpara={}\n",
    "    for g in range(lenlay):\n",
    "        if g==0 :\n",
    "            allpara['w'+str(g+1)] , allpara['b'+str(g+1)] = initpara(lay[0],ipl)\n",
    "        else:\n",
    "            allpara['w'+str(g+1)] , allpara['b'+str(g+1)]= initpara(lay[g],lay[g-1]) \n",
    "    for i in range(it):\n",
    "        predicted,cost,cac=forward_prop(allpara,x,lay,y,lambd)\n",
    "        grad=backward_prop(cac,learnrate,allpara,y,lenlay,lambd)\n",
    "        allpara=updatepara(grad,allpara,learnrate,lenlay)\n",
    "        if(i%100==0):\n",
    "            print(cost)\n",
    "        \n",
    "    return predicted   "
   ]
  },
  {
   "cell_type": "code",
   "execution_count": 30,
   "metadata": {},
   "outputs": [
    {
     "name": "stdout",
     "output_type": "stream",
     "text": [
      "9.396804997262132\n"
     ]
    },
    {
     "name": "stderr",
     "output_type": "stream",
     "text": [
      "/home/aditya/.local/lib/python3.5/site-packages/ipykernel_launcher.py:23: RuntimeWarning: divide by zero encountered in log\n",
      "/home/aditya/.local/lib/python3.5/site-packages/ipykernel_launcher.py:23: RuntimeWarning: invalid value encountered in multiply\n"
     ]
    }
   ],
   "source": [
    "lay=[1,]\n",
    "pred=train(x,y,lay,0.005,100,1)"
   ]
  },
  {
   "cell_type": "code",
   "execution_count": 31,
   "metadata": {},
   "outputs": [
    {
     "name": "stdout",
     "output_type": "stream",
     "text": [
      "65.65656565656566\n"
     ]
    }
   ],
   "source": [
    "for i in range(len(pred)):\n",
    "    if pred[i]>0.5:\n",
    "        pred[i]=1\n",
    "    else:\n",
    "        pred[i]=0\n",
    "right=0\n",
    "for i in range(len(pred)):\n",
    "    if pred[i]==y[i]:\n",
    "        right=right+1\n",
    "accuracy=right/len(pred) * 100\n",
    "print(accuracy)"
   ]
  },
  {
   "cell_type": "code",
   "execution_count": 32,
   "metadata": {},
   "outputs": [],
   "source": [
    "from sklearn.linear_model import LogisticRegression\n",
    "lm=LogisticRegression()"
   ]
  },
  {
   "cell_type": "code",
   "execution_count": 33,
   "metadata": {},
   "outputs": [
    {
     "name": "stderr",
     "output_type": "stream",
     "text": [
      "/home/aditya/.local/lib/python3.5/site-packages/sklearn/linear_model/logistic.py:433: FutureWarning: Default solver will be changed to 'lbfgs' in 0.22. Specify a solver to silence this warning.\n",
      "  FutureWarning)\n"
     ]
    },
    {
     "data": {
      "text/plain": [
       "LogisticRegression(C=1.0, class_weight=None, dual=False, fit_intercept=True,\n",
       "          intercept_scaling=1, max_iter=100, multi_class='warn',\n",
       "          n_jobs=None, penalty='l2', random_state=None, solver='warn',\n",
       "          tol=0.0001, verbose=0, warm_start=False)"
      ]
     },
     "execution_count": 33,
     "metadata": {},
     "output_type": "execute_result"
    }
   ],
   "source": [
    "lm.fit(x.T,y)"
   ]
  },
  {
   "cell_type": "code",
   "execution_count": 34,
   "metadata": {},
   "outputs": [
    {
     "name": "stdout",
     "output_type": "stream",
     "text": [
      "80.24691358024691\n",
      "[[-0.74409176  2.65481885 -0.03663125 -0.33192739 -0.11235073  0.00267212\n",
      "   0.76035925]] [1.19141644]\n"
     ]
    }
   ],
   "source": [
    "pred=lm.predict(x.T)\n",
    "for i in range(len(pred)):\n",
    "    if pred[i]>0.5:\n",
    "        pred[i]=1\n",
    "    else:\n",
    "        pred[i]=0\n",
    "right=0\n",
    "for i in range(len(pred)):\n",
    "    if pred[i]==y[i]:\n",
    "        right=right+1\n",
    "accuracy=right/len(pred) * 100\n",
    "print(accuracy)\n",
    "print(lm.coef_,lm.intercept_)"
   ]
  },
  {
   "cell_type": "code",
   "execution_count": 35,
   "metadata": {},
   "outputs": [
    {
     "data": {
      "text/plain": [
       "PolynomialFeatures(degree=2, include_bias=True, interaction_only=False)"
      ]
     },
     "execution_count": 35,
     "metadata": {},
     "output_type": "execute_result"
    }
   ],
   "source": [
    "from sklearn.preprocessing import PolynomialFeatures\n",
    "pr=PolynomialFeatures(degree=2)\n",
    "pr"
   ]
  },
  {
   "cell_type": "code",
   "execution_count": 36,
   "metadata": {},
   "outputs": [
    {
     "name": "stdout",
     "output_type": "stream",
     "text": [
      "(7, 891)\n"
     ]
    },
    {
     "data": {
      "text/plain": [
       "(891, 36)"
      ]
     },
     "execution_count": 36,
     "metadata": {},
     "output_type": "execute_result"
    }
   ],
   "source": [
    "print(x.shape)\n",
    "z=pr.fit_transform(x.T)\n",
    "z.shape"
   ]
  },
  {
   "cell_type": "code",
   "execution_count": 37,
   "metadata": {},
   "outputs": [
    {
     "name": "stderr",
     "output_type": "stream",
     "text": [
      "/home/aditya/.local/lib/python3.5/site-packages/sklearn/linear_model/logistic.py:433: FutureWarning: Default solver will be changed to 'lbfgs' in 0.22. Specify a solver to silence this warning.\n",
      "  FutureWarning)\n"
     ]
    },
    {
     "data": {
      "text/plain": [
       "LogisticRegression(C=1.0, class_weight=None, dual=False, fit_intercept=True,\n",
       "          intercept_scaling=1, max_iter=100, multi_class='warn',\n",
       "          n_jobs=None, penalty='l2', random_state=None, solver='warn',\n",
       "          tol=0.0001, verbose=0, warm_start=False)"
      ]
     },
     "execution_count": 37,
     "metadata": {},
     "output_type": "execute_result"
    }
   ],
   "source": [
    "lm.fit(z,y)"
   ]
  },
  {
   "cell_type": "code",
   "execution_count": 38,
   "metadata": {},
   "outputs": [
    {
     "name": "stdout",
     "output_type": "stream",
     "text": [
      "83.16498316498317\n"
     ]
    }
   ],
   "source": [
    "pred=lm.predict(z)\n",
    "for i in range(len(pred)):\n",
    "    if pred[i]>0.5:\n",
    "        pred[i]=1\n",
    "    else:\n",
    "        pred[i]=0\n",
    "right=0\n",
    "for i in range(len(pred)):\n",
    "    if pred[i]==y[i]:\n",
    "        right=right+1\n",
    "accuracy=right/len(pred) * 100\n",
    "print(accuracy)\n"
   ]
  },
  {
   "cell_type": "code",
   "execution_count": 39,
   "metadata": {},
   "outputs": [],
   "source": [
    "from sklearn.preprocessing import StandardScaler\n",
    "scale=StandardScaler()\n"
   ]
  },
  {
   "cell_type": "code",
   "execution_count": 40,
   "metadata": {},
   "outputs": [],
   "source": [
    "from sklearn.metrics import mean_squared_error as mse"
   ]
  },
  {
   "cell_type": "markdown",
   "metadata": {},
   "source": [
    "mse(x,y)"
   ]
  },
  {
   "cell_type": "code",
   "execution_count": 41,
   "metadata": {},
   "outputs": [
    {
     "data": {
      "text/plain": [
       "0.8316498316498316"
      ]
     },
     "execution_count": 41,
     "metadata": {},
     "output_type": "execute_result"
    }
   ],
   "source": [
    "lm.score(z,y)#r squared -coefficient of determination"
   ]
  },
  {
   "cell_type": "code",
   "execution_count": 42,
   "metadata": {},
   "outputs": [
    {
     "name": "stdout",
     "output_type": "stream",
     "text": [
      "(579, 36) (579,)\n"
     ]
    }
   ],
   "source": [
    "#splitting dataset into train and test\n",
    "from sklearn.model_selection import train_test_split\n",
    "xtr,ytr,xts,yts=train_test_split(z,y,test_size=0.35,random_state=0)\n",
    "print(xtr.shape,xts.shape)"
   ]
  },
  {
   "cell_type": "code",
   "execution_count": 43,
   "metadata": {},
   "outputs": [
    {
     "name": "stderr",
     "output_type": "stream",
     "text": [
      "/home/aditya/.local/lib/python3.5/site-packages/sklearn/linear_model/logistic.py:433: FutureWarning: Default solver will be changed to 'lbfgs' in 0.22. Specify a solver to silence this warning.\n",
      "  FutureWarning)\n"
     ]
    },
    {
     "data": {
      "text/plain": [
       "LogisticRegression(C=1.0, class_weight=None, dual=False, fit_intercept=True,\n",
       "          intercept_scaling=1, max_iter=100, multi_class='warn',\n",
       "          n_jobs=None, penalty='l2', random_state=None, solver='warn',\n",
       "          tol=0.0001, verbose=0, warm_start=False)"
      ]
     },
     "execution_count": 43,
     "metadata": {},
     "output_type": "execute_result"
    }
   ],
   "source": [
    "lm.fit(xtr,xts)"
   ]
  },
  {
   "cell_type": "code",
   "execution_count": 44,
   "metadata": {},
   "outputs": [],
   "source": [
    "pred=lm.predict(ytr)"
   ]
  },
  {
   "cell_type": "code",
   "execution_count": 45,
   "metadata": {},
   "outputs": [
    {
     "data": {
      "text/plain": [
       "0.8076923076923077"
      ]
     },
     "execution_count": 45,
     "metadata": {},
     "output_type": "execute_result"
    }
   ],
   "source": [
    "lm.score(ytr,yts)"
   ]
  },
  {
   "cell_type": "code",
   "execution_count": 46,
   "metadata": {},
   "outputs": [
    {
     "ename": "NameError",
     "evalue": "name 'p' is not defined",
     "output_type": "error",
     "traceback": [
      "\u001b[0;31m---------------------------------------------------------------------------\u001b[0m",
      "\u001b[0;31mNameError\u001b[0m                                 Traceback (most recent call last)",
      "\u001b[0;32m<ipython-input-46-6c10289a8da7>\u001b[0m in \u001b[0;36m<module>\u001b[0;34m\u001b[0m\n\u001b[0;32m----> 1\u001b[0;31m \u001b[0mp\u001b[0m\u001b[0;34m\u001b[0m\u001b[0m\n\u001b[0m",
      "\u001b[0;31mNameError\u001b[0m: name 'p' is not defined"
     ]
    }
   ],
   "source": []
  },
  {
   "cell_type": "code",
   "execution_count": 48,
   "metadata": {},
   "outputs": [
    {
     "name": "stdout",
     "output_type": "stream",
     "text": [
      "(7, 891) (891,)\n"
     ]
    }
   ],
   "source": [
    "print(x.shape,y.shape)"
   ]
  },
  {
   "cell_type": "code",
   "execution_count": 50,
   "metadata": {},
   "outputs": [],
   "source": [
    "from sklearn import tree\n",
    "cl=tree.DecisionTreeClassifier()\n",
    "cl=cl.fit(x.T,y)"
   ]
  },
  {
   "cell_type": "code",
   "execution_count": 51,
   "metadata": {},
   "outputs": [],
   "source": [
    "pred=cl.predict(x.T)"
   ]
  },
  {
   "cell_type": "code",
   "execution_count": 66,
   "metadata": {},
   "outputs": [
    {
     "name": "stdout",
     "output_type": "stream",
     "text": [
      " accuracy on the test set itself 57.692307692307686\n"
     ]
    }
   ],
   "source": [
    "for i in range(len(pred)):\n",
    "    if pred[i]>0.5:\n",
    "        pred[i]=1\n",
    "    else:\n",
    "        pred[i]=0\n",
    "right=0\n",
    "for i in range(len(pred)):\n",
    "    if pred[i]==y[i]:\n",
    "        right=right+1\n",
    "accuracy=right/len(pred) * 100\n",
    "print(' accuracy on the test set itself',accuracy)\n"
   ]
  },
  {
   "cell_type": "code",
   "execution_count": 59,
   "metadata": {},
   "outputs": [],
   "source": [
    "cl2=tree.DecisionTreeClassifier()\n",
    "cl2=cl2.fit(xtr,xts)"
   ]
  },
  {
   "cell_type": "code",
   "execution_count": 60,
   "metadata": {},
   "outputs": [],
   "source": [
    "pred=cl2.predict(ytr)"
   ]
  },
  {
   "cell_type": "code",
   "execution_count": 65,
   "metadata": {},
   "outputs": [
    {
     "name": "stdout",
     "output_type": "stream",
     "text": [
      "accuracyof decision tree is: 77.88461538461539\n"
     ]
    }
   ],
   "source": [
    "for i in range(len(pred)):\n",
    "    if pred[i]>0.5:\n",
    "        pred[i]=1\n",
    "    else:\n",
    "        pred[i]=0\n",
    "right=0\n",
    "for i in range(len(pred)):\n",
    "    if pred[i]==yts[i]:\n",
    "        right=right+1\n",
    "accuracy=right/len(pred) * 100\n",
    "print(\"accuracyof decision tree is:\", accuracy)"
   ]
  },
  {
   "cell_type": "code",
   "execution_count": 70,
   "metadata": {},
   "outputs": [],
   "source": [
    "from sklearn.ensemble import RandomForestClassifier\n"
   ]
  },
  {
   "cell_type": "code",
   "execution_count": 71,
   "metadata": {},
   "outputs": [],
   "source": [
    "clf=RandomForestClassifier()"
   ]
  },
  {
   "cell_type": "code",
   "execution_count": 72,
   "metadata": {},
   "outputs": [
    {
     "name": "stderr",
     "output_type": "stream",
     "text": [
      "/home/aditya/.local/lib/python3.5/site-packages/sklearn/ensemble/forest.py:246: FutureWarning: The default value of n_estimators will change from 10 in version 0.20 to 100 in 0.22.\n",
      "  \"10 in version 0.20 to 100 in 0.22.\", FutureWarning)\n"
     ]
    },
    {
     "data": {
      "text/plain": [
       "RandomForestClassifier(bootstrap=True, class_weight=None, criterion='gini',\n",
       "            max_depth=None, max_features='auto', max_leaf_nodes=None,\n",
       "            min_impurity_decrease=0.0, min_impurity_split=None,\n",
       "            min_samples_leaf=1, min_samples_split=2,\n",
       "            min_weight_fraction_leaf=0.0, n_estimators=10, n_jobs=None,\n",
       "            oob_score=False, random_state=None, verbose=0,\n",
       "            warm_start=False)"
      ]
     },
     "execution_count": 72,
     "metadata": {},
     "output_type": "execute_result"
    }
   ],
   "source": [
    "clf.fit(xtr,xts)"
   ]
  },
  {
   "cell_type": "code",
   "execution_count": 74,
   "metadata": {},
   "outputs": [
    {
     "data": {
      "text/plain": [
       "(312,)"
      ]
     },
     "execution_count": 74,
     "metadata": {},
     "output_type": "execute_result"
    }
   ],
   "source": [
    "pred=clf.predict(ytr)\n",
    "pred.shape"
   ]
  },
  {
   "cell_type": "code",
   "execution_count": 75,
   "metadata": {},
   "outputs": [
    {
     "name": "stdout",
     "output_type": "stream",
     "text": [
      "0.8365384615384616\n"
     ]
    }
   ],
   "source": [
    "from sklearn.metrics import accuracy_score\n",
    "acc=accuracy_score(yts,pred)\n",
    "print(acc)"
   ]
  },
  {
   "cell_type": "code",
   "execution_count": 77,
   "metadata": {},
   "outputs": [],
   "source": [
    "from sklearn.ensemble import AdaBoostClassifier\n",
    "clf=AdaBoostClassifier()"
   ]
  },
  {
   "cell_type": "code",
   "execution_count": 78,
   "metadata": {},
   "outputs": [
    {
     "data": {
      "text/plain": [
       "AdaBoostClassifier(algorithm='SAMME.R', base_estimator=None,\n",
       "          learning_rate=1.0, n_estimators=50, random_state=None)"
      ]
     },
     "execution_count": 78,
     "metadata": {},
     "output_type": "execute_result"
    }
   ],
   "source": [
    "clf.fit(xtr,xts)"
   ]
  },
  {
   "cell_type": "code",
   "execution_count": 79,
   "metadata": {},
   "outputs": [],
   "source": [
    "pred=clf.predict(ytr)"
   ]
  },
  {
   "cell_type": "code",
   "execution_count": 80,
   "metadata": {},
   "outputs": [],
   "source": [
    "acc=accuracy_score(yts,pred)"
   ]
  },
  {
   "cell_type": "code",
   "execution_count": 81,
   "metadata": {},
   "outputs": [
    {
     "name": "stdout",
     "output_type": "stream",
     "text": [
      "0.8205128205128205\n"
     ]
    }
   ],
   "source": [
    "print(acc)"
   ]
  },
  {
   "cell_type": "code",
   "execution_count": null,
   "metadata": {},
   "outputs": [],
   "source": []
  }
 ],
 "metadata": {
  "kernelspec": {
   "display_name": "Python 3",
   "language": "python",
   "name": "python3"
  },
  "language_info": {
   "codemirror_mode": {
    "name": "ipython",
    "version": 3
   },
   "file_extension": ".py",
   "mimetype": "text/x-python",
   "name": "python",
   "nbconvert_exporter": "python",
   "pygments_lexer": "ipython3",
   "version": "3.5.2"
  }
 },
 "nbformat": 4,
 "nbformat_minor": 2
}
