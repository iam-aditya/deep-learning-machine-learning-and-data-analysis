{
 "cells": [
  {
   "cell_type": "code",
   "execution_count": 1,
   "metadata": {},
   "outputs": [],
   "source": [
    "import pandas as pd\n",
    "stat=pd.read_csv('/home/aditya/Downloads/stats.csv')"
   ]
  },
  {
   "cell_type": "code",
   "execution_count": 2,
   "metadata": {},
   "outputs": [
    {
     "name": "stdout",
     "output_type": "stream",
     "text": [
      "(240, 42)\n"
     ]
    }
   ],
   "source": [
    "print(stat.shape)"
   ]
  },
  {
   "cell_type": "code",
   "execution_count": 3,
   "metadata": {},
   "outputs": [],
   "source": [
    "teams=stat.set_index('team')\n",
    "manu=teams.loc['Manchester United']\n",
    "manu=manu.set_index('season')"
   ]
  },
  {
   "cell_type": "code",
   "execution_count": 4,
   "metadata": {},
   "outputs": [],
   "source": [
    "def removespace(exp):\n",
    "    return exp.replace(' ','_')\n",
    "stat['team']=stat['team'].apply(removespace)\n",
    "    "
   ]
  },
  {
   "cell_type": "code",
   "execution_count": 5,
   "metadata": {
    "scrolled": false
   },
   "outputs": [],
   "source": [
    "teams=stat.set_index('team')"
   ]
  },
  {
   "cell_type": "code",
   "execution_count": 6,
   "metadata": {},
   "outputs": [
    {
     "data": {
      "text/plain": [
       "['Manchester_United',\n",
       " 'Chelsea',\n",
       " 'Liverpool',\n",
       " 'Arsenal',\n",
       " 'Tottenham_Hotspur',\n",
       " 'Bolton_Wanderers',\n",
       " 'Reading',\n",
       " 'Blackburn_Rovers',\n",
       " 'Everton',\n",
       " 'Portsmouth',\n",
       " 'Middlesbrough',\n",
       " 'West_Ham_United',\n",
       " 'Aston_Villa',\n",
       " 'Manchester_City',\n",
       " 'Newcastle_United',\n",
       " 'Sheffield_United',\n",
       " 'Wigan_Athletic',\n",
       " 'Charlton_Athletic',\n",
       " 'Fulham',\n",
       " 'Watford',\n",
       " 'Sunderland',\n",
       " 'Birmingham_City',\n",
       " 'Derby_County',\n",
       " 'Stoke_City',\n",
       " 'Hull_City',\n",
       " 'West_Bromwich_Albion',\n",
       " 'Wolverhampton_Wanderers',\n",
       " 'Burnley',\n",
       " 'Blackpool',\n",
       " 'Norwich_City',\n",
       " 'Swansea_City',\n",
       " 'Queens_Park_Rangers',\n",
       " 'Southampton',\n",
       " 'Crystal_Palace',\n",
       " 'Cardiff_City',\n",
       " 'Leicester_City',\n",
       " 'AFC_Bournemouth',\n",
       " 'Brighton_and_Hove_Albion',\n",
       " 'Huddersfield_Town']"
      ]
     },
     "execution_count": 6,
     "metadata": {},
     "output_type": "execute_result"
    }
   ],
   "source": [
    "tname=list(teams.index.unique())\n",
    "tname"
   ]
  },
  {
   "cell_type": "code",
   "execution_count": 10,
   "metadata": {},
   "outputs": [],
   "source": [
    "tseason={}\n",
    "for  i in range(len(tname)):\n",
    "    tseason[ tname[i] ]=pd.DataFrame()\n",
    "    tseason[ tname[i] ] =teams.loc[str(tname[i])]\n",
    "    #tseason[ tname[i] ] = tseason[tname[i]].set_index('season')\n",
    "    #t.append.(d+str(i))"
   ]
  },
  {
   "cell_type": "code",
   "execution_count": 11,
   "metadata": {},
   "outputs": [
    {
     "ename": "AttributeError",
     "evalue": "'Series' object has no attribute 'set_index'",
     "output_type": "error",
     "traceback": [
      "\u001b[0;31m---------------------------------------------------------------------------\u001b[0m",
      "\u001b[0;31mAttributeError\u001b[0m                            Traceback (most recent call last)",
      "\u001b[0;32m<ipython-input-11-188a455e8baa>\u001b[0m in \u001b[0;36m<module>\u001b[0;34m\u001b[0m\n\u001b[1;32m      1\u001b[0m \u001b[0;32mfor\u001b[0m \u001b[0mi\u001b[0m \u001b[0;32min\u001b[0m \u001b[0mrange\u001b[0m\u001b[0;34m(\u001b[0m\u001b[0mlen\u001b[0m\u001b[0;34m(\u001b[0m\u001b[0mtseason\u001b[0m\u001b[0;34m.\u001b[0m\u001b[0mkeys\u001b[0m\u001b[0;34m(\u001b[0m\u001b[0;34m)\u001b[0m\u001b[0;34m)\u001b[0m\u001b[0;34m)\u001b[0m\u001b[0;34m:\u001b[0m\u001b[0;34m\u001b[0m\u001b[0m\n\u001b[0;32m----> 2\u001b[0;31m     \u001b[0mtseason\u001b[0m\u001b[0;34m[\u001b[0m\u001b[0mtname\u001b[0m\u001b[0;34m[\u001b[0m\u001b[0mi\u001b[0m\u001b[0;34m]\u001b[0m\u001b[0;34m]\u001b[0m\u001b[0;34m=\u001b[0m\u001b[0mtseason\u001b[0m\u001b[0;34m[\u001b[0m\u001b[0mtname\u001b[0m\u001b[0;34m[\u001b[0m\u001b[0mi\u001b[0m\u001b[0;34m]\u001b[0m\u001b[0;34m]\u001b[0m\u001b[0;34m.\u001b[0m\u001b[0mset_index\u001b[0m\u001b[0;34m(\u001b[0m\u001b[0;34m'season'\u001b[0m\u001b[0;34m)\u001b[0m\u001b[0;34m\u001b[0m\u001b[0m\n\u001b[0m\u001b[1;32m      3\u001b[0m \u001b[0;34m\u001b[0m\u001b[0m\n",
      "\u001b[0;32m~/.local/lib/python3.5/site-packages/pandas/core/generic.py\u001b[0m in \u001b[0;36m__getattr__\u001b[0;34m(self, name)\u001b[0m\n\u001b[1;32m   4374\u001b[0m             \u001b[0;32mif\u001b[0m \u001b[0mself\u001b[0m\u001b[0;34m.\u001b[0m\u001b[0m_info_axis\u001b[0m\u001b[0;34m.\u001b[0m\u001b[0m_can_hold_identifiers_and_holds_name\u001b[0m\u001b[0;34m(\u001b[0m\u001b[0mname\u001b[0m\u001b[0;34m)\u001b[0m\u001b[0;34m:\u001b[0m\u001b[0;34m\u001b[0m\u001b[0m\n\u001b[1;32m   4375\u001b[0m                 \u001b[0;32mreturn\u001b[0m \u001b[0mself\u001b[0m\u001b[0;34m[\u001b[0m\u001b[0mname\u001b[0m\u001b[0;34m]\u001b[0m\u001b[0;34m\u001b[0m\u001b[0m\n\u001b[0;32m-> 4376\u001b[0;31m             \u001b[0;32mreturn\u001b[0m \u001b[0mobject\u001b[0m\u001b[0;34m.\u001b[0m\u001b[0m__getattribute__\u001b[0m\u001b[0;34m(\u001b[0m\u001b[0mself\u001b[0m\u001b[0;34m,\u001b[0m \u001b[0mname\u001b[0m\u001b[0;34m)\u001b[0m\u001b[0;34m\u001b[0m\u001b[0m\n\u001b[0m\u001b[1;32m   4377\u001b[0m \u001b[0;34m\u001b[0m\u001b[0m\n\u001b[1;32m   4378\u001b[0m     \u001b[0;32mdef\u001b[0m \u001b[0m__setattr__\u001b[0m\u001b[0;34m(\u001b[0m\u001b[0mself\u001b[0m\u001b[0;34m,\u001b[0m \u001b[0mname\u001b[0m\u001b[0;34m,\u001b[0m \u001b[0mvalue\u001b[0m\u001b[0;34m)\u001b[0m\u001b[0;34m:\u001b[0m\u001b[0;34m\u001b[0m\u001b[0m\n",
      "\u001b[0;31mAttributeError\u001b[0m: 'Series' object has no attribute 'set_index'"
     ]
    }
   ],
   "source": [
    "for i in range(len(tseason.keys())):\n",
    "    tseason[tname[i]]=tseason[tname[i]].set_index('season')\n",
    "    "
   ]
  },
  {
   "cell_type": "code",
   "execution_count": 12,
   "metadata": {},
   "outputs": [
    {
     "name": "stdout",
     "output_type": "stream",
     "text": [
      "Index(['wins', 'losses', 'goals', 'total_yel_card', 'total_red_card',\n",
      "       'total_scoring_att', 'ontarget_scoring_att', 'hit_woodwork',\n",
      "       'att_hd_goal', 'att_pen_goal', 'att_freekick_goal', 'att_ibox_goal',\n",
      "       'att_obox_goal', 'goal_fastbreak', 'total_offside', 'clean_sheet',\n",
      "       'goals_conceded', 'saves', 'outfielder_block', 'interception',\n",
      "       'total_tackle', 'last_man_tackle', 'total_clearance', 'head_clearance',\n",
      "       'own_goals', 'penalty_conceded', 'pen_goals_conceded', 'total_pass',\n",
      "       'total_through_ball', 'total_long_balls', 'backward_pass',\n",
      "       'total_cross', 'corner_taken', 'touches', 'big_chance_missed',\n",
      "       'clearance_off_line', 'dispossessed', 'penalty_save',\n",
      "       'total_high_claim', 'punches'],\n",
      "      dtype='object')\n"
     ]
    }
   ],
   "source": [
    "print(tseason['Manchester_United'].columns)"
   ]
  },
  {
   "cell_type": "code",
   "execution_count": 13,
   "metadata": {},
   "outputs": [
    {
     "name": "stdout",
     "output_type": "stream",
     "text": [
      "           wins  losses  goals  total_yel_card  total_red_card  \\\n",
      "season                                                           \n",
      "2006-2007  28.0     5.0   83.0            60.0             1.0   \n",
      "2007-2008  27.0     5.0   80.0            51.0             2.0   \n",
      "2008-2009  28.0     4.0   68.0            61.0             5.0   \n",
      "2009-2010  27.0     7.0   86.0            49.0             4.0   \n",
      "2010-2011  23.0     4.0   78.0            56.0             3.0   \n",
      "2011-2012  28.0     5.0   89.0            51.0             1.0   \n",
      "2012-2013  28.0     5.0   86.0            57.0             1.0   \n",
      "2013-2014  19.0    12.0   64.0            66.0             3.0   \n",
      "2014-2015  20.0     8.0   62.0            64.0             5.0   \n",
      "2015-2016  19.0    10.0   49.0            65.0             1.0   \n",
      "2016-2017  18.0     5.0   54.0            78.0             2.0   \n",
      "2017-2018  25.0     7.0   68.0            64.0             1.0   \n",
      "\n",
      "           total_scoring_att  ontarget_scoring_att  hit_woodwork  att_hd_goal  \\\n",
      "season                                                                          \n",
      "2006-2007              698.0                 256.0          21.0         12.0   \n",
      "2007-2008              696.0                 260.0          16.0         12.0   \n",
      "2008-2009              715.0                 230.0           9.0          7.0   \n",
      "2009-2010              695.0                 221.0          12.0         14.0   \n",
      "2010-2011              618.0                 212.0          15.0         18.0   \n",
      "2011-2012              646.0                 243.0          17.0         16.0   \n",
      "2012-2013              561.0                 213.0          24.0         14.0   \n",
      "2013-2014              526.0                 183.0          16.0         10.0   \n",
      "2014-2015              512.0                 180.0          11.0         12.0   \n",
      "2015-2016              430.0                 144.0           9.0          5.0   \n",
      "2016-2017              591.0                 210.0          19.0          9.0   \n",
      "2017-2018              512.0                 178.0          16.0         12.0   \n",
      "\n",
      "           att_pen_goal   ...     backward_pass  total_cross  corner_taken  \\\n",
      "season                    ...                                                \n",
      "2006-2007           5.0   ...               NaN        918.0         258.0   \n",
      "2007-2008           6.0   ...               NaN        936.0         261.0   \n",
      "2008-2009           4.0   ...               NaN       1039.0         257.0   \n",
      "2009-2010           6.0   ...               NaN       1156.0         297.0   \n",
      "2010-2011           3.0   ...            2411.0       1005.0         243.0   \n",
      "2011-2012           9.0   ...            2765.0       1018.0         279.0   \n",
      "2012-2013           4.0   ...            2727.0        962.0         218.0   \n",
      "2013-2014           5.0   ...            2898.0       1000.0         216.0   \n",
      "2014-2015           3.0   ...            3457.0        908.0         214.0   \n",
      "2015-2016           3.0   ...            3221.0        786.0         228.0   \n",
      "2016-2017           3.0   ...            3177.0        848.0         217.0   \n",
      "2017-2018           1.0   ...            2878.0        753.0         220.0   \n",
      "\n",
      "           touches  big_chance_missed  clearance_off_line  dispossessed  \\\n",
      "season                                                                    \n",
      "2006-2007  25686.0                NaN                 1.0           NaN   \n",
      "2007-2008  26620.0                NaN                10.0         627.0   \n",
      "2008-2009  30077.0                NaN                 3.0         579.0   \n",
      "2009-2010  28968.0                NaN                 2.0         622.0   \n",
      "2010-2011  26671.0               50.0                 2.0         471.0   \n",
      "2011-2012  28113.0               64.0                 3.0         521.0   \n",
      "2012-2013  27264.0               65.0                 5.0         506.0   \n",
      "2013-2014  27367.0               38.0                 1.0         491.0   \n",
      "2014-2015  29044.0               43.0                 5.0         393.0   \n",
      "2015-2016  27542.0               28.0                 4.0         522.0   \n",
      "2016-2017  28119.0               50.0                 1.0         389.0   \n",
      "2017-2018  27525.0               42.0                 4.0         399.0   \n",
      "\n",
      "           penalty_save  total_high_claim  punches  \n",
      "season                                              \n",
      "2006-2007           2.0              37.0     25.0  \n",
      "2007-2008           0.0              47.0     23.0  \n",
      "2008-2009           0.0              56.0     22.0  \n",
      "2009-2010           0.0              65.0     18.0  \n",
      "2010-2011           0.0              45.0     16.0  \n",
      "2011-2012           1.0              37.0     26.0  \n",
      "2012-2013           0.0              38.0     28.0  \n",
      "2013-2014           0.0              32.0     14.0  \n",
      "2014-2015           1.0              33.0      7.0  \n",
      "2015-2016           0.0              29.0     13.0  \n",
      "2016-2017           1.0              32.0      4.0  \n",
      "2017-2018           0.0              20.0      6.0  \n",
      "\n",
      "[12 rows x 40 columns]\n"
     ]
    }
   ],
   "source": [
    "print(tseason['Manchester_United'])"
   ]
  },
  {
   "cell_type": "code",
   "execution_count": null,
   "metadata": {},
   "outputs": [],
   "source": []
  },
  {
   "cell_type": "code",
   "execution_count": null,
   "metadata": {},
   "outputs": [],
   "source": []
  }
 ],
 "metadata": {
  "kernelspec": {
   "display_name": "Python 3",
   "language": "python",
   "name": "python3"
  },
  "language_info": {
   "codemirror_mode": {
    "name": "ipython",
    "version": 3
   },
   "file_extension": ".py",
   "mimetype": "text/x-python",
   "name": "python",
   "nbconvert_exporter": "python",
   "pygments_lexer": "ipython3",
   "version": "3.5.2"
  }
 },
 "nbformat": 4,
 "nbformat_minor": 2
}
